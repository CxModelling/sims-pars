{
 "cells": [
  {
   "cell_type": "code",
   "execution_count": 1,
   "metadata": {
    "tags": []
   },
   "outputs": [],
   "source": [
    "import sims_pars as sims"
   ]
  },
  {
   "cell_type": "code",
   "execution_count": 2,
   "metadata": {
    "tags": []
   },
   "outputs": [],
   "source": [
    "bn = sims.bayes_net_from_script('''\n",
    "Pcore SIER {\n",
    "    b0 ~ norm(12, 1)\n",
    "    b1 = 0.5 # gggg\n",
    "    pf ~ beta(8, 20)\n",
    "    foodstore ~ binom(100, pf)\n",
    "    b0r ~ norm(0, .01)\n",
    "    ageA # ~ norm(20, 3)\n",
    "    ageB ~ norm(30, 2)\n",
    "    ps ~ beta(5, 6)\n",
    "    sexA ~ cat({'m': ps, 'f': 1-ps})\n",
    "    muA = b0 + b0r + b1*ageA\n",
    "    bmiA ~ norm(muA, sd)\n",
    "    sdB = sd * 0.5\n",
    "    muB = b0 + b0r + b1*ageB\n",
    "    bmiB ~ norm(muB, sdB)\n",
    "}\n",
    "''')"
   ]
  },
  {
   "cell_type": "code",
   "execution_count": 3,
   "metadata": {
    "tags": []
   },
   "outputs": [
    {
     "data": {
      "text/plain": [
       "['ageA', 'sd']"
      ]
     },
     "execution_count": 3,
     "metadata": {},
     "output_type": "execute_result"
    }
   ],
   "source": [
    "bn.Exo"
   ]
  },
  {
   "cell_type": "code",
   "execution_count": 4,
   "metadata": {
    "tags": []
   },
   "outputs": [
    {
     "data": {
      "text/plain": [
       "{'sd': 0.4,\n",
       " 'ageA': 30,\n",
       " 'b0': 12.187410883222181,\n",
       " 'b1': 0.5,\n",
       " 'pf': 0.22660675349832254,\n",
       " 'b0r': 0.013681751400158471,\n",
       " 'ageB': 32.10345026631681,\n",
       " 'ps': 0.289135609724495,\n",
       " 'foodstore': 27,\n",
       " 'muA': 27.20109263462234,\n",
       " 'muB': 28.252817767780748,\n",
       " 'sexA': 'f',\n",
       " 'sdB': 0.2,\n",
       " 'bmiA': 27.37339741818964,\n",
       " 'bmiB': 28.51929269026648}"
      ]
     },
     "execution_count": 4,
     "metadata": {},
     "output_type": "execute_result"
    }
   ],
   "source": [
    "sims.sample(bn, cond={'sd': 0.4, 'ageA': 30})"
   ]
  },
  {
   "cell_type": "code",
   "execution_count": 5,
   "metadata": {
    "tags": []
   },
   "outputs": [
    {
     "name": "stdout",
     "output_type": "stream",
     "text": [
      "NodeSet country\n",
      "|-Fixed ['b1', 'ageA', 'sd']\n",
      "|-NodeSet area\n",
      "  |-Fixed ['b0r', 'ps']\n",
      "  |-Floating ['foodstore', 'pf']\n",
      "  |-NodeSet agA\n",
      "    |-Fixed ['ageA', 'sexA']\n",
      "    |-Floating ['b0', 'bmiA', 'muA']\n",
      "    |-Exo ['ps']\n",
      "    |-Listening ['sd', 'b1', 'b0r']\n",
      "  |-NodeSet agB\n",
      "    |-Fixed ['ageB', 'sdB']\n",
      "    |-Floating ['b0', 'muB', 'bmiB']\n",
      "    |-Listening ['sd', 'b1', 'b0r']\n",
      "NodeSet country\n",
      "|-Cp: muB, (b0, b0r, ageB)| (b1)\n",
      "|-Cp: bmiB, (b0, b0r, ageB, muB, sdB)| (b1, sd)\n",
      "|-Cp: muA, (b0, b0r)| (b1, ageA)\n",
      "|-Cp: foodstore, (pf)\n",
      "|-Cp: bmiA, (b0, b0r, muA)| (b1, ageA, sd)\n",
      "|-NodeSet area\n",
      "  |-Cp: muB, (b0, ageB)| (b1, b0r)\n",
      "  |-Cp: bmiB, (b0, ageB, muB, sdB)| (b1, b0r, sd)\n",
      "  |-Cp: muA, (b0)| (b1, b0r, ageA)\n",
      "  |-Cp: foodstore, (pf)\n",
      "  |-Cp: bmiA, (b0, muA)| (b1, b0r, ageA, sd)\n",
      "  |-Fz: pf\n",
      "  |-NodeSet agA\n",
      "    |-Fz: b0\n",
      "    |-Cp: bmiA, (b0, muA)| (b1, b0r, ageA, sd)\n",
      "    |-Cp: muA, (b0)| (b1, b0r, ageA)\n",
      "  |-NodeSet agB\n",
      "    |-Fz: b0\n",
      "    |-Cp: muB, (b0)| (b1, b0r, ageB)\n",
      "    |-Cp: bmiB, (b0, muB)| (b1, b0r, ageB, sdB)\n"
     ]
    }
   ],
   "source": [
    "root = sims.NodeSet('country')\n",
    "node_area = root.new_child('area', as_fixed=['b0r', 'ps'], as_floating=['foodstore'])\n",
    "node_area.new_child('agA', as_fixed=['ageA', 'sexA'], as_floating=['bmiA'])\n",
    "node_area.new_child('agB', as_fixed=['ageB'], as_floating=['bmiB'])\n",
    "\n",
    "sc = sims.as_simulation_core(bn, root)\n",
    "\n",
    "root.print()\n",
    "root.print_samplers()"
   ]
  },
  {
   "cell_type": "code",
   "execution_count": 6,
   "metadata": {
    "tags": []
   },
   "outputs": [
    {
     "data": {
      "text/plain": [
       "['b0', 'pf', 'b0r', 'ageB', 'ps']"
      ]
     },
     "execution_count": 6,
     "metadata": {},
     "output_type": "execute_result"
    }
   ],
   "source": [
    "bn.RVRoots"
   ]
  },
  {
   "cell_type": "code",
   "execution_count": 7,
   "metadata": {
    "tags": []
   },
   "outputs": [
    {
     "data": {
      "text/plain": [
       "Simulation core: SIER"
      ]
     },
     "execution_count": 7,
     "metadata": {},
     "output_type": "execute_result"
    }
   ],
   "source": [
    "sc"
   ]
  }
 ],
 "metadata": {
  "kernelspec": {
   "display_name": "Python 3 (ipykernel)",
   "language": "python",
   "name": "python3"
  },
  "language_info": {
   "codemirror_mode": {
    "name": "ipython",
    "version": 3
   },
   "file_extension": ".py",
   "mimetype": "text/x-python",
   "name": "python",
   "nbconvert_exporter": "python",
   "pygments_lexer": "ipython3",
   "version": "3.10.9"
  }
 },
 "nbformat": 4,
 "nbformat_minor": 4
}
