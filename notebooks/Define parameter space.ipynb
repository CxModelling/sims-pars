{
 "cells": [
  {
   "cell_type": "code",
   "execution_count": 1,
   "metadata": {},
   "outputs": [],
   "source": [
    "import sims_pars as sims"
   ]
  },
  {
   "cell_type": "code",
   "execution_count": 2,
   "metadata": {},
   "outputs": [],
   "source": [
    "bn = sims.bayes_net_from_script('''\n",
    "Pcore SIER {\n",
    "    b0 ~ norm(12, 1)\n",
    "    b1 = 0.5 # gggg\n",
    "    pf ~ beta(8, 20)\n",
    "    foodstore ~ binom(100, pf)\n",
    "    b0r ~ norm(0, .01)\n",
    "    ageA # ~ norm(20, 3)\n",
    "    ageB ~ norm(30, 2)\n",
    "    ps ~ beta(5, 6)\n",
    "    sexA ~ cat({'m': ps, 'f': 1-ps})\n",
    "    muA = b0 + b0r + b1*ageA\n",
    "    bmiA ~ norm(muA, sd)\n",
    "    sdB = sd * 0.5\n",
    "    muB = b0 + b0r + b1*ageB\n",
    "    bmiB ~ norm(muB, sdB)\n",
    "}\n",
    "''')"
   ]
  },
  {
   "cell_type": "code",
   "execution_count": 11,
   "metadata": {},
   "outputs": [
    {
     "data": {
      "text/plain": [
       "['ageA', 'sd']"
      ]
     },
     "execution_count": 11,
     "metadata": {},
     "output_type": "execute_result"
    }
   ],
   "source": [
    "bn.Exo"
   ]
  },
  {
   "cell_type": "code",
   "execution_count": 13,
   "metadata": {},
   "outputs": [
    {
     "data": {
      "text/plain": [
       "{'sd': 0.4,\n",
       " 'ageA': 30,\n",
       " 'sdB': 0.2,\n",
       " 'ps': 0.5235229535485977,\n",
       " 'sexA': 'm',\n",
       " 'ageB': 31.089168284912965,\n",
       " 'b0r': -0.001950391427949617,\n",
       " 'pf': 0.26788849620409055,\n",
       " 'foodstore': 27,\n",
       " 'b1': 0.5,\n",
       " 'b0': 14.734652371356159,\n",
       " 'muB': 30.27728612238469,\n",
       " 'bmiB': 30.314185806016678,\n",
       " 'muA': 29.73270197992821,\n",
       " 'bmiA': 29.348466275365322}"
      ]
     },
     "execution_count": 13,
     "metadata": {},
     "output_type": "execute_result"
    }
   ],
   "source": [
    "sims.sample(bn, cond={'sd': 0.4, 'ageA': 30})"
   ]
  },
  {
   "cell_type": "code",
   "execution_count": 3,
   "metadata": {},
   "outputs": [
    {
     "name": "stdout",
     "output_type": "stream",
     "text": [
      "NodeSet country\n",
      "|-Fixed ['sd', 'ageA', 'b1']\n",
      "|-NodeSet area\n",
      "  |-Fixed ['ps', 'b0r']\n",
      "  |-Floating ['foodstore', 'pf']\n",
      "  |-NodeSet agA\n",
      "    |-Fixed ['sexA', 'ageA']\n",
      "    |-Floating ['bmiA', 'b0', 'muA']\n",
      "    |-Exo ['ps']\n",
      "    |-Listening ['sd', 'b1', 'b0r']\n",
      "  |-NodeSet agB\n",
      "    |-Fixed ['sdB', 'ageB']\n",
      "    |-Floating ['muB', 'b0', 'bmiB']\n",
      "    |-Listening ['sd', 'b1', 'b0r']\n",
      "NodeSet country\n",
      "|-Cp: bmiA, (b0r, b0, muA)| (sd, ageA, b1)\n",
      "|-Cp: foodstore, (pf)\n",
      "|-Cp: muB, (ageB, b0r, b0)| (b1)\n",
      "|-Cp: bmiB, (sdB, ageB, b0r, b0, muB)| (sd, b1)\n",
      "|-Cp: muA, (b0r, b0)| (ageA, b1)\n",
      "|-NodeSet area\n",
      "  |-Cp: foodstore, (pf)\n",
      "  |-Cp: bmiA, (b0, muA)| (sd, ageA, b0r, b1)\n",
      "  |-Cp: muB, (ageB, b0)| (b0r, b1)\n",
      "  |-Fz: pf\n",
      "  |-Cp: bmiB, (sdB, ageB, b0, muB)| (sd, b0r, b1)\n",
      "  |-Cp: muA, (b0)| (ageA, b0r, b1)\n",
      "  |-NodeSet agA\n",
      "    |-Cp: bmiA, (b0, muA)| (sd, ageA, b0r, b1)\n",
      "    |-Fz: b0\n",
      "    |-Cp: muA, (b0)| (ageA, b0r, b1)\n",
      "  |-NodeSet agB\n",
      "    |-Cp: muB, (b0)| (ageB, b0r, b1)\n",
      "    |-Fz: b0\n",
      "    |-Cp: bmiB, (b0, muB)| (sdB, ageB, b0r, b1)\n"
     ]
    }
   ],
   "source": [
    "root = sims.NodeSet('country')\n",
    "node_area = root.new_child('area', as_fixed=['b0r', 'ps'], as_floating=['foodstore'])\n",
    "node_area.new_child('agA', as_fixed=['ageA', 'sexA'], as_floating=['bmiA'])\n",
    "node_area.new_child('agB', as_fixed=['ageB'], as_floating=['bmiB'])\n",
    "\n",
    "sc = sims.as_simulation_core(bn, root)\n",
    "\n",
    "root.print()\n",
    "root.print_samplers()"
   ]
  },
  {
   "cell_type": "code",
   "execution_count": 29,
   "metadata": {},
   "outputs": [
    {
     "data": {
      "text/plain": [
       "['ps', 'ageB', 'b0r', 'pf', 'b0']"
      ]
     },
     "execution_count": 29,
     "metadata": {},
     "output_type": "execute_result"
    }
   ],
   "source": [
    "bn.RVRoots"
   ]
  },
  {
   "cell_type": "code",
   "execution_count": 24,
   "metadata": {},
   "outputs": [
    {
     "ename": "AttributeError",
     "evalue": "'SimulationCore' object has no attribute 'Root'",
     "output_type": "error",
     "traceback": [
      "\u001b[1;31m---------------------------------------------------------------------------\u001b[0m",
      "\u001b[1;31mAttributeError\u001b[0m                            Traceback (most recent call last)",
      "\u001b[1;32m<ipython-input-24-58a152a47cf9>\u001b[0m in \u001b[0;36m<module>\u001b[1;34m\u001b[0m\n\u001b[1;32m----> 1\u001b[1;33m \u001b[0msc\u001b[0m\u001b[1;33m.\u001b[0m\u001b[0mRoot\u001b[0m\u001b[1;33m\u001b[0m\u001b[1;33m\u001b[0m\u001b[0m\n\u001b[0m",
      "\u001b[1;31mAttributeError\u001b[0m: 'SimulationCore' object has no attribute 'Root'"
     ]
    }
   ],
   "source": [
    "sc"
   ]
  }
 ],
 "metadata": {
  "kernelspec": {
   "display_name": "Python 3 (ipykernel)",
   "language": "python",
   "name": "python3"
  },
  "language_info": {
   "codemirror_mode": {
    "name": "ipython",
    "version": 3
   },
   "file_extension": ".py",
   "mimetype": "text/x-python",
   "name": "python",
   "nbconvert_exporter": "python",
   "pygments_lexer": "ipython3",
   "version": "3.9.7"
  }
 },
 "nbformat": 4,
 "nbformat_minor": 4
}
