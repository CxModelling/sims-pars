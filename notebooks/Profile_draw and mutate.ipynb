{
 "cells": [
  {
   "cell_type": "code",
   "execution_count": 1,
   "id": "9f2f1b36",
   "metadata": {
    "tags": []
   },
   "outputs": [],
   "source": [
    "from sims_pars import bayes_net_from_script, sample, evaluate_nodes\n",
    "from sims_pars.bayesnet import Chromosome"
   ]
  },
  {
   "cell_type": "code",
   "execution_count": 2,
   "id": "88ec9fb4-5c8d-4fbe-a3b5-01b197b49765",
   "metadata": {
    "tags": []
   },
   "outputs": [],
   "source": [
    "script = '''\n",
    "PCore Test {\n",
    "    k = 5\n",
    "    a ~ unif(1, k)\n",
    "    b ~ norm(0, 1)\n",
    "    c ~ norm(b, a)\n",
    "}\n",
    "'''"
   ]
  },
  {
   "cell_type": "code",
   "execution_count": 3,
   "id": "2698f4dc-408c-4af0-bc10-1b9ad9e5e671",
   "metadata": {
    "tags": []
   },
   "outputs": [],
   "source": [
    "bn = bayes_net_from_script(script)"
   ]
  },
  {
   "cell_type": "code",
   "execution_count": 4,
   "id": "4e0b7871-44e3-4198-b80b-4fef78ae2e29",
   "metadata": {
    "tags": []
   },
   "outputs": [
    {
     "data": {
      "text/plain": [
       "['b', 'a']"
      ]
     },
     "execution_count": 4,
     "metadata": {},
     "output_type": "execute_result"
    }
   ],
   "source": [
    "bn.RVRoots"
   ]
  },
  {
   "cell_type": "code",
   "execution_count": 12,
   "id": "1ceb22af-1bfd-432d-9ff0-a2b04395966c",
   "metadata": {
    "tags": []
   },
   "outputs": [
    {
     "data": {
      "text/plain": [
       "k: 5, b: -0.495143, a: 1.07374, c: -0.278576"
      ]
     },
     "execution_count": 12,
     "metadata": {},
     "output_type": "execute_result"
    }
   ],
   "source": [
    "def sample_prior(bn, exo=None):\n",
    "    p = sample(bn, cond=exo)\n",
    "    lp = evaluate_nodes(bn, p)\n",
    "    ch = Chromosome(p, lp)\n",
    "    return ch\n",
    "        \n",
    "sample_prior(bn)"
   ]
  },
  {
   "cell_type": "code",
   "execution_count": 1,
   "id": "2b24f0f8-cac1-4bce-8a1b-2ff353195f64",
   "metadata": {
    "tags": []
   },
   "outputs": [
    {
     "data": {
      "text/plain": [
       "<function chr(i, /)>"
      ]
     },
     "execution_count": 1,
     "metadata": {},
     "output_type": "execute_result"
    }
   ],
   "source": [
    "chr"
   ]
  },
  {
   "cell_type": "code",
   "execution_count": 13,
   "id": "7013d1e7-d091-4ed2-90e9-b58e89bf5d06",
   "metadata": {
    "tags": []
   },
   "outputs": [
    {
     "name": "stdout",
     "output_type": "stream",
     "text": [
      "4.58 ms ± 306 µs per loop (mean ± std. dev. of 7 runs, 100 loops each)\n"
     ]
    }
   ],
   "source": [
    "%timeit sample_prior(bn)"
   ]
  },
  {
   "cell_type": "code",
   "execution_count": 8,
   "id": "0a8ff045-05e4-4e0e-b937-e04edff7f132",
   "metadata": {
    "tags": []
   },
   "outputs": [
    {
     "data": {
      "text/plain": [
       "{'Locus': {'k': 10,\n",
       "  'b': -0.2772143823286646,\n",
       "  'a': 8.240536001100262,\n",
       "  'c': -1.7866641423876632},\n",
       " 'LogProb': -6.199367249762359}"
      ]
     },
     "execution_count": 8,
     "metadata": {},
     "output_type": "execute_result"
    }
   ],
   "source": [
    "exo = {'k': 10}\n",
    "\n",
    "p = sample(bn, cond=exo)\n",
    "chr = Chromosome(p, evaluate_nodes(bn, p))\n",
    "chr.to_json()"
   ]
  },
  {
   "cell_type": "code",
   "execution_count": 7,
   "id": "3223357a-8b00-43d6-a7c5-4faed1eb69fc",
   "metadata": {
    "tags": []
   },
   "outputs": [
    {
     "data": {
      "text/plain": [
       "k: 5, b: -2.02207, a: 1.27073, c: -4.09875"
      ]
     },
     "execution_count": 7,
     "metadata": {},
     "output_type": "execute_result"
    }
   ],
   "source": [
    "Chromosome.from_json(chr.to_json())"
   ]
  },
  {
   "cell_type": "code",
   "execution_count": 11,
   "id": "3472a22c-612b-4665-9721-657ab858194c",
   "metadata": {
    "tags": []
   },
   "outputs": [
    {
     "data": {
      "text/plain": [
       "k: 10, b: -0.277214, a: 2, c: -0.687725"
      ]
     },
     "execution_count": 11,
     "metadata": {},
     "output_type": "execute_result"
    }
   ],
   "source": [
    "chr.impulse({'a': 2.0}, bn)\n",
    "chr"
   ]
  },
  {
   "cell_type": "code",
   "execution_count": 2,
   "id": "505afbdd",
   "metadata": {
    "tags": []
   },
   "outputs": [],
   "source": [
    "class Test(AbsObjectiveSimBased):\n",
    "    def __init__(self):\n",
    "        bn = bayes_net_from_script('''\n",
    "        PCore Normal2 {\n",
    "            r_die_tb_untx ~ unif(0.07, 0.19)\n",
    "            rr_die_asym ~ unif(0, 1)\n",
    "\n",
    "            prev_rural ~ unif(0.001, 0.01)\n",
    "            prev_urban ~ unif(0.001, 0.01)\n",
    "            prev_slum ~ unif(0.001, 0.01)\n",
    "\n",
    "            // Life history\n",
    "            r_sc ~ unif(0.15, 0.25)  # self-cure\n",
    "\n",
    "            // Care-seeking and diagnosis\n",
    "            rr_det_urban ~ unif(0.5, 5)\n",
    "            rr_det_slum ~ unif(0.5, 5)\n",
    "\n",
    "            p_dx_pri_frac ~ unif(0.5, 1)\n",
    "            p_dx_pub = 0.83\n",
    "            p_dx_eng = (p_dx_pub + p_dx_pri) / 2\n",
    "            p_dx_pri = p_dx_pub * p_dx_pri_frac\n",
    "\n",
    "            p_txi_pub = 0.88\n",
    "            p_txi_eng = 0.88\n",
    "            p_txi_pri = 0.75\n",
    "\n",
    "            p_public ~ unif(0.3, 0.8)\n",
    "            p_eng_rural_frac ~ unif(0, 1)\n",
    "            p_eng_rural = p_eng_urban * p_eng_rural_frac\n",
    "            p_eng_urban ~ unif(0, 1)\n",
    "            p_eng_slum = p_eng_urban\n",
    "            r_acf ~ unif(0, 0.05)\n",
    "\n",
    "            ppv = 0.85\n",
    "\n",
    "            // Treatment\n",
    "            r_tx_succ = 2\n",
    "            dur_succ_ds = 0.5\n",
    "            dur_succ_dr = 2\n",
    "            x ~ binom(size=60, prob = 0.5)\n",
    "        }\n",
    "        ''')\n",
    "        AbsObjectiveSimBased.__init__(self, bn)\n",
    "\n",
    "    def simulate(self, pars):\n",
    "        return 'test'\n",
    "\n",
    "    def link_likelihood(self, sim):\n",
    "        return 1"
   ]
  },
  {
   "cell_type": "code",
   "execution_count": null,
   "id": "e27640c9-0373-4660-9b86-8916874f71c2",
   "metadata": {},
   "outputs": [],
   "source": []
  },
  {
   "cell_type": "code",
   "execution_count": 6,
   "id": "1e43fd3d",
   "metadata": {
    "tags": []
   },
   "outputs": [
    {
     "data": {
      "text/plain": [
       "{'Locus': {'r_die_tb_untx': 0.15975179206386825,\n",
       "  'rr_die_asym': 0.9409856140974366,\n",
       "  'prev_rural': 0.00815563702514403,\n",
       "  'prev_urban': 0.009387385314785703,\n",
       "  'prev_slum': 0.007118297913251721,\n",
       "  'r_sc': 0.1686733609685655,\n",
       "  'rr_det_urban': 2.0127140244006423,\n",
       "  'rr_det_slum': 2.546199829864127,\n",
       "  'p_dx_pri_frac': 0.6377158017219158,\n",
       "  'p_dx_pub': 0.83,\n",
       "  'p_txi_pub': 0.88,\n",
       "  'p_txi_eng': 0.88,\n",
       "  'p_txi_pri': 0.75,\n",
       "  'p_public': 0.688785903480731,\n",
       "  'p_eng_rural_frac': 0.77026796852874,\n",
       "  'p_eng_urban': 0.9850912367598427,\n",
       "  'r_acf': 0.041830390191166605,\n",
       "  'ppv': 0.85,\n",
       "  'r_tx_succ': 2,\n",
       "  'dur_succ_ds': 0.5,\n",
       "  'dur_succ_dr': 2,\n",
       "  'x': 27,\n",
       "  'p_dx_pri': 0.5293041154291901,\n",
       "  'p_eng_rural': 0.7587842257544681,\n",
       "  'p_eng_slum': 0.9850912367598427,\n",
       "  'p_dx_eng': 0.679652057714595},\n",
       " 'LogPrior': 17.355649520740293,\n",
       " 'LogLikelihood': 1}"
      ]
     },
     "execution_count": 6,
     "metadata": {},
     "output_type": "execute_result"
    }
   ],
   "source": [
    "p = obj.sample_prior()\n",
    "obj.evaluate(p)\n",
    "p.to_json()"
   ]
  },
  {
   "cell_type": "code",
   "execution_count": 7,
   "id": "03ef1d78",
   "metadata": {
    "tags": []
   },
   "outputs": [
    {
     "data": {
      "text/plain": [
       "['r_die_tb_untx',\n",
       " 'rr_die_asym',\n",
       " 'prev_rural',\n",
       " 'prev_urban',\n",
       " 'prev_slum',\n",
       " 'r_sc',\n",
       " 'rr_det_urban',\n",
       " 'rr_det_slum',\n",
       " 'p_dx_pri_frac',\n",
       " 'p_public',\n",
       " 'p_eng_rural_frac',\n",
       " 'p_eng_urban',\n",
       " 'r_acf']"
      ]
     },
     "execution_count": 7,
     "metadata": {},
     "output_type": "execute_result"
    }
   ],
   "source": [
    "obj.FreeParameters"
   ]
  },
  {
   "cell_type": "code",
   "execution_count": 8,
   "id": "daf09a29",
   "metadata": {
    "tags": []
   },
   "outputs": [
    {
     "name": "stdout",
     "output_type": "stream",
     "text": [
      "8.4 ms ± 167 µs per loop (mean ± std. dev. of 7 runs, 100 loops each)\n"
     ]
    }
   ],
   "source": [
    "step_sizes = {\n",
    "    'prev_rural': 0.001,\n",
    "    'prev_urban': 0.001,\n",
    "    'prev_slum': 0.001,\n",
    "    'r_sc': 0.05,\n",
    "    'rr_det_urban': 0.1,\n",
    "    'rr_det_slum': 0.1,\n",
    "    'p_dx_pri_frac': 0.1,\n",
    "    'p_public': 0.1,\n",
    "    'p_eng_rural_frac': 0.5\n",
    "}\n",
    "\n",
    "def mutate1(p0, sizes):\n",
    "    p = p0.clone()\n",
    "    changes = {k: v + sizes[k] for k, v in p.Locus.items() if k in sizes}\n",
    "\n",
    "    p.impulse(changes)\n",
    "    obj.evaluate_prior(p)\n",
    "    return p\n",
    "\n",
    "%timeit mutate1(p, step_sizes)"
   ]
  },
  {
   "cell_type": "code",
   "execution_count": 9,
   "id": "acab4443",
   "metadata": {
    "tags": []
   },
   "outputs": [
    {
     "name": "stdout",
     "output_type": "stream",
     "text": [
      "10.9 ms ± 141 µs per loop (mean ± std. dev. of 7 runs, 100 loops each)\n"
     ]
    }
   ],
   "source": [
    "def mutate2(p0, sizes):\n",
    "    changes = {k: v + sizes[k] for k, v in p0.Locus.items() if k in sizes}\n",
    "\n",
    "    return obj.serve(changes)\n",
    "\n",
    "%timeit mutate2(p, step_sizes)"
   ]
  },
  {
   "cell_type": "code",
   "execution_count": 10,
   "id": "669af371",
   "metadata": {
    "tags": []
   },
   "outputs": [
    {
     "data": {
      "text/plain": [
       "[Domain(Name='r_die_tb_untx', Type='Double', Lower=0.07, Upper=0.19),\n",
       " Domain(Name='rr_die_asym', Type='Double', Lower=0.0, Upper=1.0),\n",
       " Domain(Name='prev_rural', Type='Double', Lower=0.001, Upper=0.010000000000000002),\n",
       " Domain(Name='prev_urban', Type='Double', Lower=0.001, Upper=0.010000000000000002),\n",
       " Domain(Name='prev_slum', Type='Double', Lower=0.001, Upper=0.010000000000000002),\n",
       " Domain(Name='r_sc', Type='Double', Lower=0.15, Upper=0.25),\n",
       " Domain(Name='rr_det_urban', Type='Double', Lower=0.5, Upper=5.0),\n",
       " Domain(Name='rr_det_slum', Type='Double', Lower=0.5, Upper=5.0),\n",
       " Domain(Name='p_dx_pri_frac', Type='Double', Lower=0.5, Upper=1.0),\n",
       " Domain(Name='p_public', Type='Double', Lower=0.3, Upper=0.8),\n",
       " Domain(Name='p_eng_rural_frac', Type='Double', Lower=0.0, Upper=1.0),\n",
       " Domain(Name='p_eng_urban', Type='Double', Lower=0.0, Upper=1.0),\n",
       " Domain(Name='r_acf', Type='Double', Lower=0.0, Upper=0.05)]"
      ]
     },
     "execution_count": 10,
     "metadata": {},
     "output_type": "execute_result"
    }
   ],
   "source": [
    "obj.Domain"
   ]
  }
 ],
 "metadata": {
  "kernelspec": {
   "display_name": "Python 3 (ipykernel)",
   "language": "python",
   "name": "python3"
  },
  "language_info": {
   "codemirror_mode": {
    "name": "ipython",
    "version": 3
   },
   "file_extension": ".py",
   "mimetype": "text/x-python",
   "name": "python",
   "nbconvert_exporter": "python",
   "pygments_lexer": "ipython3",
   "version": "3.10.9"
  }
 },
 "nbformat": 4,
 "nbformat_minor": 5
}
