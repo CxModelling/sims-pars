{
 "cells": [
  {
   "cell_type": "markdown",
   "id": "b71bff00-e5eb-4bbb-b6d2-75a522f2e277",
   "metadata": {},
   "source": [
    "## Contents:\n",
    "* [Network building](#build)\n",
    "* [Role of nodes](#role)\n",
    "* [Type of noetworks](#type)\n",
    "* [Network inheritance](#inher)"
   ]
  },
  {
   "cell_type": "markdown",
   "id": "1853423f-10eb-4be0-aa38-a571787bed3b",
   "metadata": {},
   "source": [
    "## Network building <a class=\"anchor\" id=\"build\"></a>"
   ]
  },
  {
   "cell_type": "code",
   "execution_count": null,
   "id": "17441ddb-8b18-4e15-b51f-75e4726b8f5c",
   "metadata": {},
   "outputs": [],
   "source": []
  },
  {
   "cell_type": "markdown",
   "id": "ab6a07db-fe33-410c-ab87-769103bc203c",
   "metadata": {},
   "source": [
    "## Role of nodes <a class=\"anchor\" id=\"role\">"
   ]
  },
  {
   "cell_type": "code",
   "execution_count": null,
   "id": "181d9fd8-d844-411f-a354-97237370bafd",
   "metadata": {},
   "outputs": [],
   "source": []
  },
  {
   "cell_type": "markdown",
   "id": "4f956c66-c1cd-4af4-b0a9-2dc56b3a3bd4",
   "metadata": {},
   "source": [
    "## Type of noetworks <a class=\"anchor\" id=\"type\">"
   ]
  },
  {
   "cell_type": "code",
   "execution_count": null,
   "id": "9187ce08-557a-478a-9fc8-6c393a0faed9",
   "metadata": {},
   "outputs": [],
   "source": []
  },
  {
   "cell_type": "markdown",
   "id": "630c81fc-cf40-4b7c-83ef-f1135d78941b",
   "metadata": {},
   "source": [
    "## Network inheritance <a class=\"anchor\" id=\"inher\">"
   ]
  },
  {
   "cell_type": "code",
   "execution_count": null,
   "id": "638ee6cc-0941-456e-9ab6-c7c115edea13",
   "metadata": {},
   "outputs": [],
   "source": []
  }
 ],
 "metadata": {
  "kernelspec": {
   "display_name": "Python 3 (ipykernel)",
   "language": "python",
   "name": "python3"
  },
  "language_info": {
   "codemirror_mode": {
    "name": "ipython",
    "version": 3
   },
   "file_extension": ".py",
   "mimetype": "text/x-python",
   "name": "python",
   "nbconvert_exporter": "python",
   "pygments_lexer": "ipython3",
   "version": "3.10.9"
  }
 },
 "nbformat": 4,
 "nbformat_minor": 5
}
