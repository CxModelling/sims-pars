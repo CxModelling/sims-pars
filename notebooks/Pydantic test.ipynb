{
 "cells": [
  {
   "cell_type": "code",
   "execution_count": 1,
   "id": "a1b4108f",
   "metadata": {
    "tags": []
   },
   "outputs": [],
   "source": [
    "import sims_pars.prob as dist"
   ]
  },
  {
   "cell_type": "code",
   "execution_count": 3,
   "id": "6a664ddb",
   "metadata": {
    "tags": []
   },
   "outputs": [
    {
     "name": "stdout",
     "output_type": "stream",
     "text": [
      "471 µs ± 5.48 µs per loop (mean ± std. dev. of 7 runs, 1,000 loops each)\n",
      "32 µs ± 589 ns per loop (mean ± std. dev. of 7 runs, 10,000 loops each)\n",
      "gamma(shape=0.1, rate=1)\n",
      "411 µs ± 2.24 µs per loop (mean ± std. dev. of 7 runs, 1,000 loops each)\n"
     ]
    }
   ],
   "source": [
    "di = 'gamma(0.1, rate = 1)'\n",
    "\n",
    "%timeit dist.parse_distribution(di)\n",
    "\n",
    "%timeit dist.complete_function(di)\n",
    "seq = dist.complete_function(di)\n",
    "print(seq)\n",
    "%timeit dist.parse_distribution(seq, to_complete=False)"
   ]
  },
  {
   "cell_type": "code",
   "execution_count": 4,
   "id": "12c192f4",
   "metadata": {
    "tags": []
   },
   "outputs": [],
   "source": [
    "from sims_pars import bayes_net_from_script, sample"
   ]
  },
  {
   "cell_type": "code",
   "execution_count": 5,
   "id": "7d0825db",
   "metadata": {
    "tags": []
   },
   "outputs": [],
   "source": [
    "bn = bayes_net_from_script('''\n",
    "PCore Root {\n",
    "    x ~ binom(prob = 0.5, size = 5)\n",
    "    y ~ unif(0.01, 0.02)\n",
    "}\n",
    "''')"
   ]
  },
  {
   "cell_type": "code",
   "execution_count": 6,
   "id": "0b78fcb7",
   "metadata": {
    "tags": []
   },
   "outputs": [
    {
     "name": "stdout",
     "output_type": "stream",
     "text": [
      "247 µs ± 3.74 µs per loop (mean ± std. dev. of 7 runs, 1,000 loops each)\n",
      "412 µs ± 4.36 µs per loop (mean ± std. dev. of 7 runs, 1,000 loops each)\n"
     ]
    }
   ],
   "source": [
    "def fn1():\n",
    "    bayes_net_from_script('''\n",
    "PCore Root {\n",
    "    x ~ binom(prob = 0.5, size = 5)\n",
    "    y ~ unif(0.01, 0.02)\n",
    "}\n",
    "''')\n",
    "\n",
    "\n",
    "def fn():\n",
    "    bn2 = bayes_net_from_script('''\n",
    "    PCore Root {\n",
    "        x = 60\n",
    "        t ~ binom(prob = 0.3, size = x)\n",
    "        u ~ unif(0.01, 0.02)\n",
    "    }\n",
    "    ''')\n",
    "\n",
    "\n",
    "    bn.extend(bn2)\n",
    "\n",
    "%timeit fn1()\n",
    "%timeit fn()"
   ]
  },
  {
   "cell_type": "code",
   "execution_count": 8,
   "id": "44c38c78-9a0a-4614-be80-e17f60a83e88",
   "metadata": {
    "tags": []
   },
   "outputs": [],
   "source": [
    "import logging"
   ]
  },
  {
   "cell_type": "code",
   "execution_count": 9,
   "id": "c782f580-697d-419c-ab06-72288b2d6326",
   "metadata": {
    "tags": []
   },
   "outputs": [],
   "source": [
    "log = logging.getLogger('Test')"
   ]
  },
  {
   "cell_type": "code",
   "execution_count": 12,
   "id": "29e477b7-cc15-4f8d-8a0d-1d011928bf2c",
   "metadata": {
    "tags": []
   },
   "outputs": [],
   "source": [
    "log.addHandler(logging.StreamHandler())"
   ]
  },
  {
   "cell_type": "code",
   "execution_count": 14,
   "id": "8703a197-9883-4323-b89d-492789bb24c2",
   "metadata": {
    "tags": []
   },
   "outputs": [
    {
     "name": "stderr",
     "output_type": "stream",
     "text": [
      "info\n"
     ]
    }
   ],
   "source": [
    "log.warning(\"info\")\n",
    "\n"
   ]
  },
  {
   "cell_type": "code",
   "execution_count": 17,
   "id": "61f578ad-967f-42f2-955c-5ecc56c777c4",
   "metadata": {
    "tags": []
   },
   "outputs": [
    {
     "data": {
      "text/plain": [
       "True"
      ]
     },
     "execution_count": 17,
     "metadata": {},
     "output_type": "execute_result"
    }
   ],
   "source": [
    "log.hasHandlers()"
   ]
  }
 ],
 "metadata": {
  "kernelspec": {
   "display_name": "Python 3 (ipykernel)",
   "language": "python",
   "name": "python3"
  },
  "language_info": {
   "codemirror_mode": {
    "name": "ipython",
    "version": 3
   },
   "file_extension": ".py",
   "mimetype": "text/x-python",
   "name": "python",
   "nbconvert_exporter": "python",
   "pygments_lexer": "ipython3",
   "version": "3.10.9"
  }
 },
 "nbformat": 4,
 "nbformat_minor": 5
}
