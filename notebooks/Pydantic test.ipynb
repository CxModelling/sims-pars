{
 "cells": [
  {
   "cell_type": "code",
   "execution_count": 1,
   "id": "8c1d9314",
   "metadata": {},
   "outputs": [],
   "source": [
    "import scipy.stats as sts\n",
    "from pydantic import BaseModel, ValidationError\n",
    "from typing import Optional\n",
    "import numpy as np\n",
    "import numpy.random as rd\n",
    "from abc import ABCMeta, abstractmethod\n"
   ]
  },
  {
   "cell_type": "code",
   "execution_count": 2,
   "id": "f8bda462",
   "metadata": {},
   "outputs": [],
   "source": [
    "import pydantic.types as ptp"
   ]
  },
  {
   "cell_type": "code",
   "execution_count": 6,
   "id": "e80fa173",
   "metadata": {},
   "outputs": [],
   "source": [
    "class A(BaseModel):\n",
    "    x: ptp.PositiveFloat"
   ]
  },
  {
   "cell_type": "code",
   "execution_count": 11,
   "id": "7de56a2d",
   "metadata": {},
   "outputs": [
    {
     "data": {
      "text/plain": [
       "A(x=1.0)"
      ]
     },
     "execution_count": 11,
     "metadata": {},
     "output_type": "execute_result"
    }
   ],
   "source": [
    "A(x=1)"
   ]
  },
  {
   "cell_type": "code",
   "execution_count": 56,
   "id": "39a0aa65",
   "metadata": {},
   "outputs": [],
   "source": [
    "class Workshop:\n",
    "    def __init__(self):\n",
    "        self.Resources = dict()\n",
    "        self.Creators = dict()\n",
    "\n",
    "    def append_resource(self, name, res):\n",
    "        self.Resources[name] = res\n",
    "        \n",
    "    def register(self, cls_name, cls):\n",
    "        self.Creators[cls_name] = cls\n",
    "    \n",
    "    def parse(self, src, loc=None):\n",
    "        return eval(src, self.Creators, loc)"
   ]
  },
  {
   "cell_type": "code",
   "execution_count": 57,
   "id": "e3ff8370",
   "metadata": {},
   "outputs": [],
   "source": [
    "ws = Workshop()\n"
   ]
  },
  {
   "cell_type": "code",
   "execution_count": 59,
   "id": "d20febe5",
   "metadata": {},
   "outputs": [
    {
     "ename": "TypeError",
     "evalue": "__init__() takes 1 positional argument but 2 were given",
     "output_type": "error",
     "traceback": [
      "\u001b[1;31m---------------------------------------------------------------------------\u001b[0m",
      "\u001b[1;31mTypeError\u001b[0m                                 Traceback (most recent call last)",
      "Input \u001b[1;32mIn [59]\u001b[0m, in \u001b[0;36m<cell line: 1>\u001b[1;34m()\u001b[0m\n\u001b[1;32m----> 1\u001b[0m \u001b[43mws\u001b[49m\u001b[38;5;241;43m.\u001b[39;49m\u001b[43mparse\u001b[49m\u001b[43m(\u001b[49m\u001b[38;5;124;43m'\u001b[39;49m\u001b[38;5;124;43mExp(0.5)\u001b[39;49m\u001b[38;5;124;43m'\u001b[39;49m\u001b[43m)\u001b[49m\n",
      "Input \u001b[1;32mIn [56]\u001b[0m, in \u001b[0;36mWorkshop.parse\u001b[1;34m(self, src, loc)\u001b[0m\n\u001b[0;32m     12\u001b[0m \u001b[38;5;28;01mdef\u001b[39;00m \u001b[38;5;21mparse\u001b[39m(\u001b[38;5;28mself\u001b[39m, src, loc\u001b[38;5;241m=\u001b[39m\u001b[38;5;28;01mNone\u001b[39;00m):\n\u001b[1;32m---> 13\u001b[0m     \u001b[38;5;28;01mreturn\u001b[39;00m \u001b[38;5;28;43meval\u001b[39;49m\u001b[43m(\u001b[49m\u001b[43msrc\u001b[49m\u001b[43m,\u001b[49m\u001b[43m \u001b[49m\u001b[38;5;28;43mself\u001b[39;49m\u001b[38;5;241;43m.\u001b[39;49m\u001b[43mCreators\u001b[49m\u001b[43m,\u001b[49m\u001b[43m \u001b[49m\u001b[43mloc\u001b[49m\u001b[43m)\u001b[49m\n",
      "File \u001b[1;32m<string>:1\u001b[0m, in \u001b[0;36m<module>\u001b[1;34m\u001b[0m\n",
      "\u001b[1;31mTypeError\u001b[0m: __init__() takes 1 positional argument but 2 were given"
     ]
    }
   ],
   "source": [
    "ws.parse('Exp(0.5)')"
   ]
  },
  {
   "cell_type": "code",
   "execution_count": null,
   "id": "87b8d89c",
   "metadata": {},
   "outputs": [],
   "source": []
  },
  {
   "cell_type": "code",
   "execution_count": 119,
   "id": "23fbdb89",
   "metadata": {},
   "outputs": [
    {
     "data": {
      "text/plain": [
       "mappingproxy({'scale': <Parameter \"scale: float = 1\">})"
      ]
     },
     "execution_count": 119,
     "metadata": {},
     "output_type": "execute_result"
    }
   ],
   "source": [
    "sig.parameters"
   ]
  },
  {
   "cell_type": "code",
   "execution_count": 308,
   "id": "da952cda",
   "metadata": {},
   "outputs": [
    {
     "data": {
      "text/plain": [
       "Exp(scale=3.0, s1=2.0, loc=0, bb=50)"
      ]
     },
     "execution_count": 308,
     "metadata": {},
     "output_type": "execute_result"
    }
   ],
   "source": [
    "class Creator:\n",
    "    def __init__(self, cls_name, cls):\n",
    "        self.Name = cls_name\n",
    "        self.Class = cls\n",
    "        self.Args = inspect.signature(cls).parameters\n",
    "        \n",
    "    def complete_def(self, seq):\n",
    "        root = ast.parse(seq)\n",
    "        for inputs in ast.walk(root):\n",
    "            if isinstance(inputs, ast.Call):\n",
    "                break\n",
    "\n",
    "        args = [arg.value if isinstance(arg, ast.Constant) else ast.unparse(arg) for arg in inputs.args]\n",
    "\n",
    "        named = [arg.arg for arg in inputs.keywords]\n",
    "        unnamed = {k: v for k, v in self.Args.items() if k not in named}\n",
    "        \n",
    "        if len(unnamed) == 0:\n",
    "            return seq\n",
    "        \n",
    "        inputs.args = list()\n",
    "        \n",
    "        full = ast.unparse(inputs)\n",
    "        \n",
    "        temp = list()\n",
    "        for i, (k, v) in enumerate(unnamed.items()):\n",
    "            try:\n",
    "                v = args[i]\n",
    "            except IndexError:\n",
    "                v = v.default\n",
    "            temp.append(f'{k}={v}')\n",
    "\n",
    "        unnamed = f'({\", \".join(temp)}'\n",
    "\n",
    "        full = full.replace('(', unnamed + (', ' if len(named) > 0 else ''), 1)\n",
    "        return full \n",
    "    \n",
    "    def parse(self, seq, loc=None):\n",
    "        seq = self.complete_def(seq)\n",
    "        return eval(seq, {self.Name: self.Class}, loc)\n",
    "    \n",
    "    def parse_dict(self, args):\n",
    "        return self.Class.parse_dict(args)\n",
    "\n",
    "    \n",
    "class Exp(BaseModel):\n",
    "    scale: float = 1\n",
    "    s1: float = 2\n",
    "    loc = 0\n",
    "    bb = 50\n",
    "    \n",
    "crt = Creator('Exp', Exp)\n",
    "crt.complete_def(\"Exp(3)\")\n",
    "crt.parse('Exp(3)')"
   ]
  },
  {
   "cell_type": "code",
   "execution_count": 306,
   "id": "7faccc54",
   "metadata": {},
   "outputs": [
    {
     "name": "stdout",
     "output_type": "stream",
     "text": [
      "20.9 µs ± 258 ns per loop (mean ± std. dev. of 7 runs, 10,000 loops each)\n",
      "26.1 µs ± 181 ns per loop (mean ± std. dev. of 7 runs, 10,000 loops each)\n"
     ]
    }
   ],
   "source": [
    "%timeit crt.complete_def(\"Exp(3)\")\n",
    "%timeit crt.complete_def(\"Exp(scale=3)\")"
   ]
  },
  {
   "cell_type": "code",
   "execution_count": 311,
   "id": "174996db",
   "metadata": {},
   "outputs": [
    {
     "name": "stdout",
     "output_type": "stream",
     "text": [
      "47.5 µs ± 956 ns per loop (mean ± std. dev. of 7 runs, 10,000 loops each)\n",
      "52.3 µs ± 193 ns per loop (mean ± std. dev. of 7 runs, 10,000 loops each)\n",
      "42 µs ± 197 ns per loop (mean ± std. dev. of 7 runs, 10,000 loops each)\n",
      "42.6 µs ± 261 ns per loop (mean ± std. dev. of 7 runs, 10,000 loops each)\n"
     ]
    }
   ],
   "source": [
    "%timeit crt.parse('Exp(3)')\n",
    "%timeit crt.parse('Exp(scale=3)')\n",
    "%timeit crt.parse('Exp(scale=3.0, s1=2.0, loc=0, bb=50)')\n",
    "%timeit crt.parse('Exp(scale=3.0, s1=2.0, loc=0, bb=bb)', {'bb': 50})"
   ]
  },
  {
   "cell_type": "code",
   "execution_count": 316,
   "id": "e543aca6",
   "metadata": {},
   "outputs": [
    {
     "name": "stdout",
     "output_type": "stream",
     "text": [
      "44.9 µs ± 434 ns per loop (mean ± std. dev. of 7 runs, 10,000 loops each)\n"
     ]
    }
   ],
   "source": [
    "%timeit crt.parse('Exp(scale=3.0, s1=2.0, loc=0, bb=bb * 4)', {'bb': 50})"
   ]
  },
  {
   "cell_type": "code",
   "execution_count": 318,
   "id": "8d5b2425",
   "metadata": {},
   "outputs": [
    {
     "data": {
      "text/plain": [
       "Exp(scale=3.0, s1=2.0, loc=0, bb=100)"
      ]
     },
     "execution_count": 318,
     "metadata": {},
     "output_type": "execute_result"
    }
   ],
   "source": [
    "qq = crt.parse('Exp(scale=3.0, s1=2.0, loc=0, bb=bb * np.sqrt( 4))', {'bb': 50, 'np': np})\n",
    "qq"
   ]
  },
  {
   "cell_type": "code",
   "execution_count": 359,
   "id": "6da8232c",
   "metadata": {},
   "outputs": [
    {
     "data": {
      "text/plain": [
       "'Exp'"
      ]
     },
     "execution_count": 359,
     "metadata": {},
     "output_type": "execute_result"
    }
   ],
   "source": [
    "inputs.func.id"
   ]
  },
  {
   "cell_type": "code",
   "execution_count": 323,
   "id": "504661f1",
   "metadata": {},
   "outputs": [
    {
     "data": {
      "text/plain": [
       "'Exp'"
      ]
     },
     "execution_count": 323,
     "metadata": {},
     "output_type": "execute_result"
    }
   ],
   "source": [
    "seq.split('(')[0]"
   ]
  },
  {
   "cell_type": "code",
   "execution_count": 206,
   "id": "4527bff3",
   "metadata": {},
   "outputs": [
    {
     "data": {
      "text/plain": [
       "<ast.keyword at 0x1f7ab72d040>"
      ]
     },
     "execution_count": 206,
     "metadata": {},
     "output_type": "execute_result"
    }
   ],
   "source": [
    "ast.keyword(arg='scale', value = args[0])"
   ]
  },
  {
   "cell_type": "code",
   "execution_count": 251,
   "id": "2476adb9",
   "metadata": {},
   "outputs": [
    {
     "data": {
      "text/plain": [
       "<ast.Module at 0x1f7ab905fd0>"
      ]
     },
     "execution_count": 251,
     "metadata": {},
     "output_type": "execute_result"
    }
   ],
   "source": [
    "root"
   ]
  },
  {
   "cell_type": "code",
   "execution_count": 326,
   "id": "d636c742",
   "metadata": {},
   "outputs": [
    {
     "data": {
      "text/plain": [
       "{'x': 1, 'y': 2}"
      ]
     },
     "execution_count": 326,
     "metadata": {},
     "output_type": "execute_result"
    }
   ],
   "source": [
    "class A(BaseModel):\n",
    "    x = 1\n",
    "    y = 2\n",
    "    \n",
    "a = A()\n",
    "a.dict()"
   ]
  },
  {
   "cell_type": "code",
   "execution_count": 343,
   "id": "b50ad864",
   "metadata": {},
   "outputs": [
    {
     "data": {
      "text/plain": [
       "{'x': 1, 'y': 2, 'z': 4}"
      ]
     },
     "execution_count": 343,
     "metadata": {},
     "output_type": "execute_result"
    }
   ],
   "source": [
    "class B(A):\n",
    "    z = 4\n",
    "\n",
    "    __kk__ = 0\n",
    "    def __init__(self, **data):\n",
    "        super().__init__(**data)\n",
    "\n",
    "        \n",
    "    \n",
    "b = B()\n",
    "b.dict()\n"
   ]
  },
  {
   "cell_type": "code",
   "execution_count": 347,
   "id": "12c192f4",
   "metadata": {},
   "outputs": [
    {
     "data": {
      "text/plain": [
       "'B'"
      ]
     },
     "execution_count": 347,
     "metadata": {},
     "output_type": "execute_result"
    }
   ],
   "source": [
    "type(b).__name__"
   ]
  }
 ],
 "metadata": {
  "kernelspec": {
   "display_name": "Python 3 (ipykernel)",
   "language": "python",
   "name": "python3"
  },
  "language_info": {
   "codemirror_mode": {
    "name": "ipython",
    "version": 3
   },
   "file_extension": ".py",
   "mimetype": "text/x-python",
   "name": "python",
   "nbconvert_exporter": "python",
   "pygments_lexer": "ipython3",
   "version": "3.9.7"
  }
 },
 "nbformat": 4,
 "nbformat_minor": 5
}
