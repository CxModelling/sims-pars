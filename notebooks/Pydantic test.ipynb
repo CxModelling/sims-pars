{
 "cells": [
  {
   "cell_type": "code",
   "execution_count": 1,
   "id": "8c1d9314",
   "metadata": {},
   "outputs": [
    {
     "name": "stdout",
     "output_type": "stream",
     "text": [
      "D:\\Projects\\Cx\\sims-pars\n"
     ]
    },
    {
     "data": {
      "text/plain": [
       "'D:\\\\Projects\\\\Cx\\\\sims-pars'"
      ]
     },
     "execution_count": 1,
     "metadata": {},
     "output_type": "execute_result"
    }
   ],
   "source": [
    "%cd ../\n",
    "%pwd"
   ]
  },
  {
   "cell_type": "code",
   "execution_count": 13,
   "id": "a1b4108f",
   "metadata": {},
   "outputs": [],
   "source": [
    "import sims_pars.prob as dist"
   ]
  },
  {
   "cell_type": "code",
   "execution_count": 17,
   "id": "6a664ddb",
   "metadata": {},
   "outputs": [
    {
     "name": "stdout",
     "output_type": "stream",
     "text": [
      "474 µs ± 13 µs per loop (mean ± std. dev. of 7 runs, 1,000 loops each)\n",
      "27.5 µs ± 419 ns per loop (mean ± std. dev. of 7 runs, 10,000 loops each)\n",
      "gamma(shape=0.1, rate=1)\n",
      "419 µs ± 8.19 µs per loop (mean ± std. dev. of 7 runs, 1,000 loops each)\n"
     ]
    }
   ],
   "source": [
    "di = 'gamma(0.1, rate = 1)'\n",
    "\n",
    "%timeit dist.parse_distribution(di)\n",
    "\n",
    "%timeit seq = dist.complete_function(di)\n",
    "print(seq)\n",
    "%timeit dist.parse_distribution(seq, to_complete=False)"
   ]
  },
  {
   "cell_type": "code",
   "execution_count": 8,
   "id": "12c192f4",
   "metadata": {},
   "outputs": [],
   "source": [
    "from sims_pars import bayes_net_from_script, sample"
   ]
  },
  {
   "cell_type": "code",
   "execution_count": 3,
   "id": "7d0825db",
   "metadata": {},
   "outputs": [],
   "source": [
    "bn = bayes_net_from_script('''\n",
    "PCore Root {\n",
    "    x ~ binom(prob = 0.5, size = 5)\n",
    "    y ~ unif(0.01, 0.02)\n",
    "}\n",
    "''')"
   ]
  },
  {
   "cell_type": "code",
   "execution_count": 13,
   "id": "0b78fcb7",
   "metadata": {},
   "outputs": [
    {
     "name": "stdout",
     "output_type": "stream",
     "text": [
      "224 µs ± 1.61 µs per loop (mean ± std. dev. of 7 runs, 1,000 loops each)\n",
      "374 µs ± 4.14 µs per loop (mean ± std. dev. of 7 runs, 1,000 loops each)\n"
     ]
    }
   ],
   "source": [
    "def fn1():\n",
    "    bayes_net_from_script('''\n",
    "PCore Root {\n",
    "    x ~ binom(prob = 0.5, size = 5)\n",
    "    y ~ unif(0.01, 0.02)\n",
    "}\n",
    "''')\n",
    "\n",
    "\n",
    "def fn():\n",
    "    bn2 = bayes_net_from_script('''\n",
    "    PCore Root {\n",
    "        x = 60\n",
    "        t ~ binom(prob = 0.3, size = x)\n",
    "        u ~ unif(0.01, 0.02)\n",
    "    }\n",
    "    ''')\n",
    "\n",
    "\n",
    "    bn.extend(bn2)\n",
    "\n",
    "%timeit fn1()\n",
    "%timeit fn()"
   ]
  },
  {
   "cell_type": "code",
   "execution_count": 11,
   "id": "c5e2390b",
   "metadata": {},
   "outputs": [
    {
     "data": {
      "text/plain": [
       "{'x': 40, 'y': 0, 'u': 0.013622924587995845, 't': 9}"
      ]
     },
     "execution_count": 11,
     "metadata": {},
     "output_type": "execute_result"
    }
   ],
   "source": [
    "sample(bn2, {'x': 40, 'y': 0})"
   ]
  },
  {
   "cell_type": "code",
   "execution_count": 46,
   "id": "8550cfa8",
   "metadata": {},
   "outputs": [
    {
     "name": "stdout",
     "output_type": "stream",
     "text": [
      "PCore Root{\n",
      "x\n",
      "y\n",
      "}\n"
     ]
    }
   ],
   "source": [
    "script_sim = [f'PCore {bn.Name}' + '{'] + [node for node in bn.Order] + ['}']\n",
    "script_sim = '\\n'.join(script_sim)\n",
    "\n",
    "print(script_sim)"
   ]
  },
  {
   "cell_type": "code",
   "execution_count": 44,
   "id": "6c5026cf",
   "metadata": {},
   "outputs": [
    {
     "name": "stdout",
     "output_type": "stream",
     "text": [
      "\n",
      "PCore Root {\n",
      "    x ~ binom(prob = 0.5, size = 5)\n",
      "    y ~ unif(0.01, 0.02)\n",
      "}\n",
      "\n"
     ]
    }
   ],
   "source": [
    "print('''\n",
    "PCore Root {\n",
    "    x ~ binom(prob = 0.5, size = 5)\n",
    "    y ~ unif(0.01, 0.02)\n",
    "}\n",
    "''')"
   ]
  },
  {
   "cell_type": "code",
   "execution_count": 47,
   "id": "1c17df4c",
   "metadata": {},
   "outputs": [
    {
     "data": {
      "text/plain": [
       "BayesNet(Name: Root, Nodes: ['x', 'y'])"
      ]
     },
     "execution_count": 47,
     "metadata": {},
     "output_type": "execute_result"
    }
   ],
   "source": [
    "bayes_net_from_script(script_sim)"
   ]
  },
  {
   "cell_type": "code",
   "execution_count": 54,
   "id": "2970120d",
   "metadata": {},
   "outputs": [
    {
     "name": "stdout",
     "output_type": "stream",
     "text": [
      "PCore Root {\n",
      "\tx ~ binom(prob=0.5,size=5)\n",
      "\ty ~ unif(min=0.01, max=0.02)\n",
      "\txx ~ norm(mean=0, sd=1)\n",
      "}\n"
     ]
    }
   ],
   "source": [
    "bn.defrost()\n",
    "bn.append_from_definition('xx')\n",
    "bn.append_from_definition('xx~norm(0, 1)')\n",
    "bn\n",
    "bn.complete()\n",
    "\n",
    "print(bn.script)"
   ]
  }
 ],
 "metadata": {
  "kernelspec": {
   "display_name": "Python 3 (ipykernel)",
   "language": "python",
   "name": "python3"
  },
  "language_info": {
   "codemirror_mode": {
    "name": "ipython",
    "version": 3
   },
   "file_extension": ".py",
   "mimetype": "text/x-python",
   "name": "python",
   "nbconvert_exporter": "python",
   "pygments_lexer": "ipython3",
   "version": "3.9.7"
  }
 },
 "nbformat": 4,
 "nbformat_minor": 5
}
