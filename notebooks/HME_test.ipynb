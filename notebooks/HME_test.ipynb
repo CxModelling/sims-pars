{
 "cells": [
  {
   "cell_type": "code",
   "execution_count": 1,
   "id": "b6c2b059-7010-4656-be38-8269507b15c3",
   "metadata": {
    "tags": []
   },
   "outputs": [],
   "source": [
    "from sims_pars.fitting.base import AbsObjectiveSimBased\n",
    "from sims_pars import bayes_net_from_script\n",
    "import scipy.stats as sts"
   ]
  },
  {
   "cell_type": "code",
   "execution_count": 2,
   "id": "1c52ee70-31fe-49cb-b352-e1889d131117",
   "metadata": {
    "tags": []
   },
   "outputs": [
    {
     "name": "stdout",
     "output_type": "stream",
     "text": [
      "Free parameters:  ['mu1', 'mu2', 'sd']\n"
     ]
    }
   ],
   "source": [
    "class TestCase(AbsObjectiveSimBased):\n",
    "    def __init__(self, mu, n=10):\n",
    "        bn = bayes_net_from_script('''\n",
    "        PCore Normal2 {\n",
    "            mu1 ~ norm(0, 1)\n",
    "            mu2 ~ norm(0, 1)\n",
    "            sd ~ gamma(0.1, 0.1)\n",
    "        }\n",
    "        ''')\n",
    "        AbsObjectiveSimBased.__init__(self, bn)\n",
    "        self.Mu = mu\n",
    "        self.N = n\n",
    "        self.X1 = sts.norm(self.Mu[0], 1).rvs(n)\n",
    "        self.X2 = sts.norm(self.Mu[1], 1).rvs(n)\n",
    "\n",
    "    def simulate(self, pars):\n",
    "        \n",
    "        sts.norm(pars['mu2'], pars['sd']).rvs(self.N)\n",
    "        \n",
    "        return {\n",
    "            'mu1': sts.norm(pars['mu1'], pars['sd']).rvs(10).mean(),\n",
    "            'mu2': sts.norm(pars['mu2'], pars['sd']).rvs(10).mean()\n",
    "        }\n",
    "\n",
    "    def link_likelihood(self, sim):\n",
    "        return sts.norm.logpdf(self.X1, sim['mu1'], 1).sum() + sts.norm.logpdf(self.X2, sim['mu2'], 1).sum()\n",
    "\n",
    "model = TestCase([10, -5])\n",
    "    \n",
    "    \n",
    "print('Free parameters: ', model.FreeParameters)\n",
    "\n"
   ]
  },
  {
   "cell_type": "markdown",
   "id": "f2216dac-d643-49a0-9f38-17ef999fbdab",
   "metadata": {},
   "source": [
    "## Read Model Info\n",
    "\n",
    "## "
   ]
  },
  {
   "cell_type": "code",
   "execution_count": 5,
   "id": "401c76b5-2908-4629-833f-59328d9b082b",
   "metadata": {
    "tags": []
   },
   "outputs": [],
   "source": [
    "di = model.BayesianNetwork['mu1'].get_distribution()"
   ]
  },
  {
   "cell_type": "code",
   "execution_count": 7,
   "id": "0509f047-934a-431f-a19b-f14f7639fa1b",
   "metadata": {
    "tags": []
   },
   "outputs": [
    {
     "data": {
      "text/plain": [
       "(0.0, 1.0)"
      ]
     },
     "execution_count": 7,
     "metadata": {},
     "output_type": "execute_result"
    }
   ],
   "source": [
    "di.mean(), di.std()"
   ]
  },
  {
   "cell_type": "code",
   "execution_count": 6,
   "id": "532d4892-8e4b-42c3-abcd-7e4791baa84e",
   "metadata": {
    "tags": []
   },
   "outputs": [],
   "source": [
    "from sims_pars.fit.converter import *\n",
    "import numpy as np"
   ]
  },
  {
   "cell_type": "code",
   "execution_count": 7,
   "id": "dc14032f-8ef2-4dca-9f92-c79278bb76f5",
   "metadata": {
    "tags": []
   },
   "outputs": [
    {
     "data": {
      "text/plain": [
       "[U(0, 1) <-> [-Inf, Inf], U(0, 1) <-> [-Inf, Inf], U(0, 1) <-> [0.0, Inf]]"
      ]
     },
     "execution_count": 7,
     "metadata": {},
     "output_type": "execute_result"
    }
   ],
   "source": [
    "converters = get_converters(model.Domain)\n",
    "converters"
   ]
  },
  {
   "cell_type": "code",
   "execution_count": 60,
   "id": "89c00639-3c67-4f7d-b1cb-2a311755234b",
   "metadata": {
    "tags": []
   },
   "outputs": [],
   "source": [
    "from abc import ABCMeta, abstractmethod\n",
    "from sklearn.gaussian_process import GaussianProcessRegressor\n",
    "from sklearn.gaussian_process.kernels import RBF\n",
    "\n",
    "class AbsEmulator(metaclass=ABCMeta):\n",
    "    def __init__(self, output, kernel=None, **kwargs):\n",
    "        self.Output = output\n",
    "        if kernel is None:\n",
    "            self.Kernel = RBF(length_scale=1e-10)\n",
    "        else:\n",
    "            self.Kernel = kernel\n",
    "        self.Opt = dict(kwargs)\n",
    "        self.GP = None\n",
    "\n",
    "    @abstractmethod\n",
    "    def train(self, xs, ys) -> None:\n",
    "        pass\n",
    "\n",
    "    @abstractmethod\n",
    "    def predict(self, xs) -> tuple[np.ndarray, np.ndarray]:\n",
    "        pass\n",
    "    \n",
    "    \n",
    "class GPREmulator(AbsEmulator):\n",
    "    def train(self, xs, ys):\n",
    "        ys = np.array([[y[self.Output]] for y in ys])\n",
    "        self.GP = GaussianProcessRegressor(kernel=self.Kernel, n_restarts_optimizer=5, **self.Opt)\n",
    "        self.GP.fit(xs, ys)\n",
    "        \n",
    "    def predict(self, xs) -> tuple[list, list]:\n",
    "        assert self.GP is not None\n",
    "        mean, var = self.GP.predict(xs, return_std=True)\n",
    "        return mean, var"
   ]
  },
  {
   "cell_type": "code",
   "execution_count": 34,
   "id": "1ddd0986-3a29-4bce-837c-207fdfe4517d",
   "metadata": {
    "tags": []
   },
   "outputs": [],
   "source": [
    "\n",
    "\n",
    "\n"
   ]
  },
  {
   "cell_type": "code",
   "execution_count": 57,
   "id": "36fd00b9-ef25-4400-ac44-7051a19645c7",
   "metadata": {
    "tags": []
   },
   "outputs": [
    {
     "data": {
      "text/plain": [
       "array([[8.59325208e-01, 2.45381284e-01, 5.07657201e-06],\n",
       "       [6.87061547e-01, 2.70048766e-01, 6.59347210e-03],\n",
       "       [2.29876311e-01, 5.49500581e-01, 2.22044605e-16],\n",
       "       [3.52363214e-01, 1.67939865e-01, 1.93275396e-11],\n",
       "       [9.42699773e-01, 1.33084658e-01, 2.10143726e-07],\n",
       "       [5.00669452e-01, 5.46614180e-01, 9.32698363e-13],\n",
       "       [8.51602031e-01, 4.16336045e-01, 2.19224638e-12],\n",
       "       [7.04423987e-01, 3.78568965e-01, 2.60415390e-03],\n",
       "       [1.66428883e-01, 1.56702233e-01, 5.99195459e-01],\n",
       "       [1.48403303e-01, 6.66545188e-01, 2.12448119e-03],\n",
       "       [6.39055907e-01, 7.58766422e-01, 9.91624700e-01],\n",
       "       [7.19741396e-01, 2.13470495e-01, 4.07717759e-01],\n",
       "       [7.73475493e-01, 4.60487274e-01, 2.18895068e-03],\n",
       "       [1.68723770e-01, 4.69105864e-01, 1.95979026e-08],\n",
       "       [4.74332299e-01, 4.06794237e-01, 4.98880287e-02],\n",
       "       [1.74228680e-01, 5.46249266e-01, 7.75396423e-01],\n",
       "       [1.09298848e-01, 7.74939776e-01, 9.79123198e-03],\n",
       "       [8.78502104e-01, 5.96738538e-01, 2.00058032e-07],\n",
       "       [1.82296710e-01, 4.50256173e-01, 9.86981012e-03],\n",
       "       [2.60248772e-01, 3.24713470e-01, 6.83793777e-08]])"
      ]
     },
     "execution_count": 57,
     "metadata": {},
     "output_type": "execute_result"
    }
   ],
   "source": [
    "ps = [model.sample_prior() for _ in range(20)]\n",
    "sims = [model.simulate(p) for p in ps]\n",
    "\n",
    "xs = np.zeros((len(ps), len(converters)))\n",
    "for i, p in enumerate(ps):\n",
    "    for j, dom in enumerate(model.Domain):\n",
    "        xs[i, j] = converters[j].value2uniform(p[dom.Name])\n",
    "\n",
    "xs"
   ]
  },
  {
   "cell_type": "code",
   "execution_count": 61,
   "id": "04e33433-9564-442d-907f-1d1533284211",
   "metadata": {
    "tags": []
   },
   "outputs": [],
   "source": [
    "emu = GPREmulator('mu1')"
   ]
  },
  {
   "cell_type": "code",
   "execution_count": 62,
   "id": "6cc740ff-4205-4078-88ab-85b107f7fd59",
   "metadata": {
    "tags": []
   },
   "outputs": [],
   "source": [
    "emu.train(xs, sims)"
   ]
  },
  {
   "cell_type": "code",
   "execution_count": 63,
   "id": "6906539f-7726-4e96-82ce-3137bc85570a",
   "metadata": {
    "tags": []
   },
   "outputs": [],
   "source": [
    "e, v = emu.predict(xs)"
   ]
  },
  {
   "cell_type": "code",
   "execution_count": 64,
   "id": "64f1d90c-956b-4646-a21e-f448bc2ebf22",
   "metadata": {
    "tags": []
   },
   "outputs": [],
   "source": [
    "s = [sim['mu1'] for sim in sims]"
   ]
  },
  {
   "cell_type": "code",
   "execution_count": 65,
   "id": "b19e3e1e-592b-4aca-b276-ccaf4e1d16bd",
   "metadata": {
    "tags": []
   },
   "outputs": [
    {
     "data": {
      "text/plain": [
       "array([ 1.98071247e-09, -1.00990947e-10,  2.36296041e-10, -3.71525684e-10,\n",
       "       -6.22752788e-10, -1.49498440e-07, -1.79194943e-09, -4.52863960e-09,\n",
       "       -6.96104139e-11,  8.06477816e-10, -1.10450712e-10, -1.45750554e-10,\n",
       "        3.99257096e-09, -3.26235129e-09, -8.99408359e-09, -9.91841297e-11,\n",
       "       -4.65422558e-10, -3.02043404e-10,  2.89503672e-09,  3.23879298e-10])"
      ]
     },
     "execution_count": 65,
     "metadata": {},
     "output_type": "execute_result"
    }
   ],
   "source": [
    "(e - s) / s"
   ]
  },
  {
   "cell_type": "code",
   "execution_count": null,
   "id": "fee9eae7-eb61-407c-8918-01c4d62ff70d",
   "metadata": {},
   "outputs": [],
   "source": []
  }
 ],
 "metadata": {
  "kernelspec": {
   "display_name": "Python 3 (ipykernel)",
   "language": "python",
   "name": "python3"
  },
  "language_info": {
   "codemirror_mode": {
    "name": "ipython",
    "version": 3
   },
   "file_extension": ".py",
   "mimetype": "text/x-python",
   "name": "python",
   "nbconvert_exporter": "python",
   "pygments_lexer": "ipython3",
   "version": "3.10.9"
  }
 },
 "nbformat": 4,
 "nbformat_minor": 5
}
