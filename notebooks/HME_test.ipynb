{
 "cells": [
  {
   "cell_type": "code",
   "execution_count": 5,
   "id": "b6c2b059-7010-4656-be38-8269507b15c3",
   "metadata": {
    "tags": []
   },
   "outputs": [],
   "source": [
    "from sims_pars.fit.cases import get_normal2\n",
    "from sims_pars.fit.converter import *\n",
    "from sims_pars.fit.hme.emulator import GPREmulator\n",
    "import numpy as np\n",
    "import scipy.stats as sts"
   ]
  },
  {
   "cell_type": "code",
   "execution_count": 6,
   "id": "1c52ee70-31fe-49cb-b352-e1889d131117",
   "metadata": {
    "tags": []
   },
   "outputs": [
    {
     "name": "stdout",
     "output_type": "stream",
     "text": [
      "Free parameters:  ['std', 'mu1', 'mu2']\n"
     ]
    }
   ],
   "source": [
    "model = get_normal2([10, -5])\n",
    "    \n",
    "print('Free parameters: ', model.FreeParameters)"
   ]
  },
  {
   "cell_type": "code",
   "execution_count": null,
   "id": "532d4892-8e4b-42c3-abcd-7e4791baa84e",
   "metadata": {
    "tags": []
   },
   "outputs": [],
   "source": []
  },
  {
   "cell_type": "code",
   "execution_count": 7,
   "id": "dc14032f-8ef2-4dca-9f92-c79278bb76f5",
   "metadata": {
    "tags": []
   },
   "outputs": [
    {
     "data": {
      "text/plain": [
       "{'std': U(0, 1) <-> [0.0, Inf],\n",
       " 'mu1': U(0, 1) <-> [-Inf, Inf],\n",
       " 'mu2': U(0, 1) <-> [-Inf, Inf]}"
      ]
     },
     "execution_count": 7,
     "metadata": {},
     "output_type": "execute_result"
    }
   ],
   "source": [
    "converters = {dom.Name: get_converter(dom) for dom in model.Domain}\n",
    "converters"
   ]
  },
  {
   "cell_type": "code",
   "execution_count": 11,
   "id": "1ddd0986-3a29-4bce-837c-207fdfe4517d",
   "metadata": {
    "tags": []
   },
   "outputs": [
    {
     "data": {
      "text/plain": [
       "{'mu1': <sims_pars.fit.hme.emulator.GPREmulator at 0x7fa0ce6e72e0>,\n",
       " 'mu2': <sims_pars.fit.hme.emulator.GPREmulator at 0x7fa0ce5fe2c0>}"
      ]
     },
     "execution_count": 11,
     "metadata": {},
     "output_type": "execute_result"
    }
   ],
   "source": [
    "emulators = {k: GPREmulator(k) for k, v in model.Data.items()}\n",
    "emulators"
   ]
  },
  {
   "cell_type": "code",
   "execution_count": 14,
   "id": "36fd00b9-ef25-4400-ac44-7051a19645c7",
   "metadata": {
    "tags": []
   },
   "outputs": [],
   "source": [
    "n_pars = len(converters)\n",
    "\n",
    "los, ups = np.zeros(n_pars), np.ones(n_pars)"
   ]
  }
 ],
 "metadata": {
  "kernelspec": {
   "display_name": "Python 3 (ipykernel)",
   "language": "python",
   "name": "python3"
  },
  "language_info": {
   "codemirror_mode": {
    "name": "ipython",
    "version": 3
   },
   "file_extension": ".py",
   "mimetype": "text/x-python",
   "name": "python",
   "nbconvert_exporter": "python",
   "pygments_lexer": "ipython3",
   "version": "3.10.9"
  }
 },
 "nbformat": 4,
 "nbformat_minor": 5
}
