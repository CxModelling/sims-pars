{
 "cells": [
  {
   "cell_type": "code",
   "execution_count": 1,
   "id": "b6c2b059-7010-4656-be38-8269507b15c3",
   "metadata": {
    "tags": []
   },
   "outputs": [
    {
     "name": "stderr",
     "output_type": "stream",
     "text": [
      "2023-03-17 17:31:13.648256: I tensorflow/core/platform/cpu_feature_guard.cc:193] This TensorFlow binary is optimized with oneAPI Deep Neural Network Library (oneDNN) to use the following CPU instructions in performance-critical operations:  SSE4.1 SSE4.2 AVX AVX2 FMA\n",
      "To enable them in other operations, rebuild TensorFlow with the appropriate compiler flags.\n"
     ]
    }
   ],
   "source": [
    "from sims_pars.fit.toys import get_normal2, get_betabin, get_sir\n",
    "from sims_pars.fit.hme import BayesHistoryMatching\n",
    "from sims_pars.fit.base import DataModel, Particle"
   ]
  },
  {
   "cell_type": "code",
   "execution_count": 2,
   "id": "9d4f0ec2-93e6-46fa-a2d9-7adb8c955a11",
   "metadata": {
    "tags": []
   },
   "outputs": [
    {
     "name": "stdout",
     "output_type": "stream",
     "text": [
      "Free parameters:  ['p1', 'p2']\n"
     ]
    }
   ],
   "source": [
    "model = get_betabin()\n",
    "    \n",
    "print('Free parameters: ', model.FreeParameters)"
   ]
  },
  {
   "cell_type": "code",
   "execution_count": 14,
   "id": "267b5c6e-5fce-42f8-a3b2-ed57f93838fc",
   "metadata": {
    "tags": []
   },
   "outputs": [],
   "source": [
    "model = get_sir(be = 1.5, ga = 0.2)\n",
    "alg = BayesHistoryMatching(max_wave=7, cutoff=3)\n"
   ]
  },
  {
   "cell_type": "code",
   "execution_count": 4,
   "id": "add4cbfa-4e55-41c5-b877-e40a72d2fe34",
   "metadata": {
    "tags": []
   },
   "outputs": [],
   "source": [
    "# model = get_betabin([2, 8])\n",
    "# alg = BayesHistoryMatching(max_wave=7, cutoff=3)"
   ]
  },
  {
   "cell_type": "code",
   "execution_count": null,
   "id": "b2a331e5-acd9-4108-b987-dfe94f50484d",
   "metadata": {
    "tags": []
   },
   "outputs": [
    {
     "name": "stderr",
     "output_type": "stream",
     "text": [
      "INFO:BHM:Initialising\n",
      "INFO:BHM:Wave: 1\n",
      "Simulation: 100%|██████████| 20/20 [00:00<00:00, 57.42it/s]\n",
      "INFO:BHM:Train emulators\n",
      "Emulation: 100%|██████████| 2000/2000 [00:15<00:00, 128.72it/s]\n",
      "INFO:BHM:CutOff: 3, Acceptance: 1.0, MSE: 0.028776888200173503\n",
      "INFO:BHM:Wave: 2\n",
      "Simulation: 100%|██████████| 20/20 [00:00<00:00, 55.94it/s]\n",
      "INFO:BHM:Train emulators\n",
      "Emulation: 100%|██████████| 2000/2000 [00:16<00:00, 122.57it/s]\n",
      "INFO:BHM:CutOff: 3, Acceptance: 1.0, MSE: 0.05919913328759408\n",
      "INFO:BHM:Wave: 3\n",
      "Simulation: 100%|██████████| 20/20 [00:00<00:00, 55.93it/s]\n",
      "INFO:BHM:Train emulators\n",
      "Emulation: 100%|██████████| 2000/2000 [00:14<00:00, 133.96it/s]\n",
      "INFO:BHM:CutOff: 3, Acceptance: 1.0, MSE: 0.07716398300490077\n",
      "INFO:BHM:Wave: 4\n",
      "Simulation: 100%|██████████| 20/20 [00:00<00:00, 61.39it/s]\n",
      "INFO:BHM:Train emulators\n",
      "Emulation: 100%|██████████| 2000/2000 [00:14<00:00, 137.31it/s]\n",
      "INFO:BHM:CutOff: 3, Acceptance: 1.0, MSE: 0.025846073166267105\n",
      "INFO:BHM:Wave: 5\n",
      "Simulation: 100%|██████████| 20/20 [00:00<00:00, 55.89it/s]\n",
      "INFO:BHM:Train emulators\n",
      "Emulation: 100%|██████████| 2000/2000 [00:14<00:00, 136.40it/s]\n",
      "INFO:BHM:CutOff: 3, Acceptance: 1.0, MSE: 0.03550584956572015\n",
      "INFO:BHM:Wave: 6\n",
      "Simulation: 100%|██████████| 20/20 [00:00<00:00, 60.51it/s]\n",
      "INFO:BHM:Train emulators\n",
      "Emulation:  14%|█▍        | 284/2000 [00:02<00:14, 118.52it/s]"
     ]
    }
   ],
   "source": [
    "alg.fit(model)"
   ]
  },
  {
   "cell_type": "code",
   "execution_count": 12,
   "id": "e15acbaa-1d97-4cac-af2a-1f800cdb1e8d",
   "metadata": {
    "tags": []
   },
   "outputs": [
    {
     "name": "stdout",
     "output_type": "stream",
     "text": [
      "('gamma', 0.363628911318856, 0.36634699247893543)\n",
      "('beta', 10.766249134525195, 12.905771518322611)\n"
     ]
    }
   ],
   "source": [
    "po = alg.sample_posteriors(300)\n",
    "\n",
    "for bd in po['Bounds']:\n",
    "    print(bd)"
   ]
  },
  {
   "cell_type": "code",
   "execution_count": 13,
   "id": "44902d0d-4777-4d3f-bad6-8d667725c823",
   "metadata": {
    "tags": []
   },
   "outputs": [
    {
     "data": {
      "text/html": [
       "<div>\n",
       "<style scoped>\n",
       "    .dataframe tbody tr th:only-of-type {\n",
       "        vertical-align: middle;\n",
       "    }\n",
       "\n",
       "    .dataframe tbody tr th {\n",
       "        vertical-align: top;\n",
       "    }\n",
       "\n",
       "    .dataframe thead th {\n",
       "        text-align: right;\n",
       "    }\n",
       "</style>\n",
       "<table border=\"1\" class=\"dataframe\">\n",
       "  <thead>\n",
       "    <tr style=\"text-align: right;\">\n",
       "      <th></th>\n",
       "      <th>gamma</th>\n",
       "      <th>beta</th>\n",
       "    </tr>\n",
       "  </thead>\n",
       "  <tbody>\n",
       "    <tr>\n",
       "      <th>count</th>\n",
       "      <td>300.000000</td>\n",
       "      <td>300.000000</td>\n",
       "    </tr>\n",
       "    <tr>\n",
       "      <th>mean</th>\n",
       "      <td>0.364994</td>\n",
       "      <td>11.886285</td>\n",
       "    </tr>\n",
       "    <tr>\n",
       "      <th>std</th>\n",
       "      <td>0.000789</td>\n",
       "      <td>0.607585</td>\n",
       "    </tr>\n",
       "    <tr>\n",
       "      <th>min</th>\n",
       "      <td>0.363637</td>\n",
       "      <td>10.771540</td>\n",
       "    </tr>\n",
       "    <tr>\n",
       "      <th>25%</th>\n",
       "      <td>0.364317</td>\n",
       "      <td>11.355219</td>\n",
       "    </tr>\n",
       "    <tr>\n",
       "      <th>50%</th>\n",
       "      <td>0.364905</td>\n",
       "      <td>11.911618</td>\n",
       "    </tr>\n",
       "    <tr>\n",
       "      <th>75%</th>\n",
       "      <td>0.365733</td>\n",
       "      <td>12.396122</td>\n",
       "    </tr>\n",
       "    <tr>\n",
       "      <th>max</th>\n",
       "      <td>0.366343</td>\n",
       "      <td>12.901141</td>\n",
       "    </tr>\n",
       "  </tbody>\n",
       "</table>\n",
       "</div>"
      ],
      "text/plain": [
       "            gamma        beta\n",
       "count  300.000000  300.000000\n",
       "mean     0.364994   11.886285\n",
       "std      0.000789    0.607585\n",
       "min      0.363637   10.771540\n",
       "25%      0.364317   11.355219\n",
       "50%      0.364905   11.911618\n",
       "75%      0.365733   12.396122\n",
       "max      0.366343   12.901141"
      ]
     },
     "execution_count": 13,
     "metadata": {},
     "output_type": "execute_result"
    }
   ],
   "source": [
    "po.to_df().describe()"
   ]
  }
 ],
 "metadata": {
  "kernelspec": {
   "display_name": "Python 3 (ipykernel)",
   "language": "python",
   "name": "python3"
  },
  "language_info": {
   "codemirror_mode": {
    "name": "ipython",
    "version": 3
   },
   "file_extension": ".py",
   "mimetype": "text/x-python",
   "name": "python",
   "nbconvert_exporter": "python",
   "pygments_lexer": "ipython3",
   "version": "3.10.9"
  }
 },
 "nbformat": 4,
 "nbformat_minor": 5
}
