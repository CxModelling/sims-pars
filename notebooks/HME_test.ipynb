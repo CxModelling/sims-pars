{
 "cells": [
  {
   "cell_type": "code",
   "execution_count": 7,
   "id": "b6c2b059-7010-4656-be38-8269507b15c3",
   "metadata": {
    "tags": []
   },
   "outputs": [],
   "source": [
    "from sims_pars.fitting.base import AbsObjectiveSimBased\n",
    "from sims_pars import bayes_net_from_script\n",
    "import scipy.stats as sts\n",
    "\n"
   ]
  },
  {
   "cell_type": "code",
   "execution_count": 10,
   "id": "1c52ee70-31fe-49cb-b352-e1889d131117",
   "metadata": {
    "tags": []
   },
   "outputs": [
    {
     "name": "stdout",
     "output_type": "stream",
     "text": [
      "Free parameters:  ['mu1', 'mu2', 'sd']\n"
     ]
    }
   ],
   "source": [
    "class TestCase(AbsObjectiveSimBased):\n",
    "    def __init__(self, mu, n=10):\n",
    "        bn = bayes_net_from_script('''\n",
    "        PCore Normal2 {\n",
    "            mu1 ~ norm(0, 1)\n",
    "            mu2 ~ norm(0, 1)\n",
    "            sd ~ gamma(0.1, 0.1)\n",
    "        }\n",
    "        ''')\n",
    "        AbsObjectiveSimBased.__init__(self, bn)\n",
    "        self.Mu = mu\n",
    "        self.N = n\n",
    "        self.X1 = sts.norm(self.Mu[0], 1).rvs(n)\n",
    "        self.X2 = sts.norm(self.Mu[1], 1).rvs(n)\n",
    "\n",
    "    def simulate(self, pars):\n",
    "        \n",
    "        sts.norm(pars['mu2'], pars['sd']).rvs(n)\n",
    "        \n",
    "        return {\n",
    "            'mu1': sts.norm(pars['mu1'], pars['sd']).rvs(10).mean(),\n",
    "            'mu2': sts.norm(pars['mu2'], pars['sd']).rvs(10).mean()\n",
    "        }\n",
    "\n",
    "    def link_likelihood(self, sim):\n",
    "        return sts.norm.logpdf(self.X1, sim['mu1'], 1).sum() + sts.norm.logpdf(self.X2, sim['mu2'], 1).sum()\n",
    "\n",
    "model0 = TestCase([10, -5])\n",
    "    \n",
    "    \n",
    "print('Free parameters: ', model0.FreeParameters)\n",
    "\n"
   ]
  },
  {
   "cell_type": "markdown",
   "id": "f2216dac-d643-49a0-9f38-17ef999fbdab",
   "metadata": {},
   "source": [
    "## Read Model Info\n",
    "\n",
    "## "
   ]
  },
  {
   "cell_type": "code",
   "execution_count": 11,
   "id": "401c76b5-2908-4629-833f-59328d9b082b",
   "metadata": {
    "tags": []
   },
   "outputs": [
    {
     "data": {
      "text/plain": [
       "[Domain(Name='mu1', Type='Double', Lower=-inf, Upper=inf),\n",
       " Domain(Name='mu2', Type='Double', Lower=-inf, Upper=inf),\n",
       " Domain(Name='sd', Type='Double', Lower=0.0, Upper=inf)]"
      ]
     },
     "execution_count": 11,
     "metadata": {},
     "output_type": "execute_result"
    }
   ],
   "source": [
    "model0.Domain"
   ]
  }
 ],
 "metadata": {
  "kernelspec": {
   "display_name": "Python 3 (ipykernel)",
   "language": "python",
   "name": "python3"
  },
  "language_info": {
   "codemirror_mode": {
    "name": "ipython",
    "version": 3
   },
   "file_extension": ".py",
   "mimetype": "text/x-python",
   "name": "python",
   "nbconvert_exporter": "python",
   "pygments_lexer": "ipython3",
   "version": "3.10.9"
  }
 },
 "nbformat": 4,
 "nbformat_minor": 5
}
