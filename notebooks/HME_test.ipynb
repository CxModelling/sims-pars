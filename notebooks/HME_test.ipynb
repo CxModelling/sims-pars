{
 "cells": [
  {
   "cell_type": "code",
   "execution_count": 1,
   "id": "b6c2b059-7010-4656-be38-8269507b15c3",
   "metadata": {
    "tags": []
   },
   "outputs": [
    {
     "name": "stderr",
     "output_type": "stream",
     "text": [
      "2023-03-16 19:06:28.100863: I tensorflow/core/platform/cpu_feature_guard.cc:193] This TensorFlow binary is optimized with oneAPI Deep Neural Network Library (oneDNN) to use the following CPU instructions in performance-critical operations:  SSE4.1 SSE4.2 AVX AVX2 FMA\n",
      "To enable them in other operations, rebuild TensorFlow with the appropriate compiler flags.\n"
     ]
    }
   ],
   "source": [
    "from sims_pars.fit.cases import get_normal2, get_betabin\n",
    "from sims_pars.fit.hme import BayesHistoryMatching\n"
   ]
  },
  {
   "cell_type": "code",
   "execution_count": 2,
   "id": "9d4f0ec2-93e6-46fa-a2d9-7adb8c955a11",
   "metadata": {
    "tags": []
   },
   "outputs": [
    {
     "name": "stdout",
     "output_type": "stream",
     "text": [
      "Free parameters:  ['p1', 'p2']\n"
     ]
    }
   ],
   "source": [
    "model = get_betabin()\n",
    "    \n",
    "print('Free parameters: ', model.FreeParameters)"
   ]
  },
  {
   "cell_type": "code",
   "execution_count": 3,
   "id": "add4cbfa-4e55-41c5-b877-e40a72d2fe34",
   "metadata": {
    "tags": []
   },
   "outputs": [],
   "source": [
    "alg = BayesHistoryMatching()"
   ]
  },
  {
   "cell_type": "code",
   "execution_count": 4,
   "id": "b2a331e5-acd9-4108-b987-dfe94f50484d",
   "metadata": {
    "tags": []
   },
   "outputs": [
    {
     "name": "stderr",
     "output_type": "stream",
     "text": [
      "INFO:BHM:Initialised\n",
      "INFO:BHM:Wave: 1\n",
      "INFO:BHM:CutOff: 5.3336937811235545, Acceptance: 0.2, MSE: 3.0607125845477987\n",
      "INFO:BHM:Wave: 2\n",
      "INFO:BHM:CutOff: 3, Acceptance: 0.6785, MSE: 1.7963134557396707\n",
      "INFO:BHM:Wave: 3\n",
      "INFO:BHM:CutOff: 3, Acceptance: 0.848, MSE: 1.6900290949520445\n",
      "INFO:BHM:Wave: 4\n",
      "INFO:BHM:CutOff: 3, Acceptance: 0.669, MSE: 1.7584592406267456\n",
      "INFO:BHM:Wave: 5\n",
      "INFO:BHM:CutOff: 3, Acceptance: 1.0, MSE: 1.304327164733482\n"
     ]
    }
   ],
   "source": [
    "alg.fit(model, max_wave=5)"
   ]
  },
  {
   "cell_type": "code",
   "execution_count": 6,
   "id": "e15acbaa-1d97-4cac-af2a-1f800cdb1e8d",
   "metadata": {
    "tags": []
   },
   "outputs": [
    {
     "name": "stdout",
     "output_type": "stream",
     "text": [
      "('p1', 0.38045542103820573, 0.9406297592751316)\n",
      "('p2', 0.5874182327979433, 0.8355417145971623)\n"
     ]
    }
   ],
   "source": [
    "po = alg.sample_posteriors(300)\n",
    "\n",
    "for bd in po['Bounds']:\n",
    "    print(bd)"
   ]
  },
  {
   "cell_type": "code",
   "execution_count": 8,
   "id": "44902d0d-4777-4d3f-bad6-8d667725c823",
   "metadata": {
    "tags": []
   },
   "outputs": [
    {
     "data": {
      "text/html": [
       "<div>\n",
       "<style scoped>\n",
       "    .dataframe tbody tr th:only-of-type {\n",
       "        vertical-align: middle;\n",
       "    }\n",
       "\n",
       "    .dataframe tbody tr th {\n",
       "        vertical-align: top;\n",
       "    }\n",
       "\n",
       "    .dataframe thead th {\n",
       "        text-align: right;\n",
       "    }\n",
       "</style>\n",
       "<table border=\"1\" class=\"dataframe\">\n",
       "  <thead>\n",
       "    <tr style=\"text-align: right;\">\n",
       "      <th></th>\n",
       "      <th>p1</th>\n",
       "      <th>p2</th>\n",
       "    </tr>\n",
       "  </thead>\n",
       "  <tbody>\n",
       "    <tr>\n",
       "      <th>count</th>\n",
       "      <td>300.000000</td>\n",
       "      <td>300.000000</td>\n",
       "    </tr>\n",
       "    <tr>\n",
       "      <th>mean</th>\n",
       "      <td>0.657548</td>\n",
       "      <td>0.707619</td>\n",
       "    </tr>\n",
       "    <tr>\n",
       "      <th>std</th>\n",
       "      <td>0.161868</td>\n",
       "      <td>0.072472</td>\n",
       "    </tr>\n",
       "    <tr>\n",
       "      <th>min</th>\n",
       "      <td>0.381116</td>\n",
       "      <td>0.587516</td>\n",
       "    </tr>\n",
       "    <tr>\n",
       "      <th>25%</th>\n",
       "      <td>0.523138</td>\n",
       "      <td>0.646829</td>\n",
       "    </tr>\n",
       "    <tr>\n",
       "      <th>50%</th>\n",
       "      <td>0.654255</td>\n",
       "      <td>0.700418</td>\n",
       "    </tr>\n",
       "    <tr>\n",
       "      <th>75%</th>\n",
       "      <td>0.802957</td>\n",
       "      <td>0.772009</td>\n",
       "    </tr>\n",
       "    <tr>\n",
       "      <th>max</th>\n",
       "      <td>0.940409</td>\n",
       "      <td>0.834003</td>\n",
       "    </tr>\n",
       "  </tbody>\n",
       "</table>\n",
       "</div>"
      ],
      "text/plain": [
       "               p1          p2\n",
       "count  300.000000  300.000000\n",
       "mean     0.657548    0.707619\n",
       "std      0.161868    0.072472\n",
       "min      0.381116    0.587516\n",
       "25%      0.523138    0.646829\n",
       "50%      0.654255    0.700418\n",
       "75%      0.802957    0.772009\n",
       "max      0.940409    0.834003"
      ]
     },
     "execution_count": 8,
     "metadata": {},
     "output_type": "execute_result"
    }
   ],
   "source": [
    "po.to_df().describe()"
   ]
  },
  {
   "cell_type": "code",
   "execution_count": null,
   "id": "d678aa31-1ae0-4129-a2b1-069213576280",
   "metadata": {},
   "outputs": [],
   "source": []
  }
 ],
 "metadata": {
  "kernelspec": {
   "display_name": "Python 3 (ipykernel)",
   "language": "python",
   "name": "python3"
  },
  "language_info": {
   "codemirror_mode": {
    "name": "ipython",
    "version": 3
   },
   "file_extension": ".py",
   "mimetype": "text/x-python",
   "name": "python",
   "nbconvert_exporter": "python",
   "pygments_lexer": "ipython3",
   "version": "3.10.9"
  }
 },
 "nbformat": 4,
 "nbformat_minor": 5
}
