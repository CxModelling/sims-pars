{
 "cells": [
  {
   "cell_type": "markdown",
   "id": "2d00cc2b-728a-46eb-9294-995748c788ee",
   "metadata": {},
   "source": [
    "## Contents:\n",
    "* [Define a model with objective class](#obj)\n",
    "* [Pick a fitting algorithm](#alg)\n",
    "* [Model fitting](#fit)\n",
    "* [Sample from posterior](#res)"
   ]
  },
  {
   "cell_type": "code",
   "execution_count": 1,
   "id": "e5a675d1-80fb-4685-91fb-7a1313ebc101",
   "metadata": {
    "tags": []
   },
   "outputs": [],
   "source": [
    "from sims_pars.fit.toys import get_betabin\n",
    "from sims_pars.fit import ApproxBayesComSMC"
   ]
  },
  {
   "cell_type": "markdown",
   "id": "44c3b99b-b0f8-4be5-ac4b-e5630b472700",
   "metadata": {},
   "source": [
    "## Define a model with objective class <a class=\"anchor\" id=\"obj\"></a>"
   ]
  },
  {
   "cell_type": "code",
   "execution_count": 2,
   "id": "343d7a61-439b-45a9-bdad-26ab22197636",
   "metadata": {
    "tags": []
   },
   "outputs": [
    {
     "data": {
      "text/plain": [
       "['p1', 'p2']"
      ]
     },
     "execution_count": 2,
     "metadata": {},
     "output_type": "execute_result"
    }
   ],
   "source": [
    "model = get_betabin([4, 4])\n",
    "model.FreeParameters"
   ]
  },
  {
   "cell_type": "markdown",
   "id": "17737bbf-3a8c-4c3c-9a78-8f6248ae3de0",
   "metadata": {},
   "source": [
    "## Pick a fitting algorithm <a class=\"anchor\" id=\"type\"></a>"
   ]
  },
  {
   "cell_type": "code",
   "execution_count": 3,
   "id": "d44ba104-af43-4b13-811a-016b3c5cd927",
   "metadata": {
    "tags": []
   },
   "outputs": [
    {
     "data": {
      "text/plain": [
       "<sims_pars.fit.abc_smc.alg.ApproxBayesComSMC at 0x7fea3fa1f580>"
      ]
     },
     "execution_count": 3,
     "metadata": {},
     "output_type": "execute_result"
    }
   ],
   "source": [
    "alg = ApproxBayesComSMC(parallel=True, n_collect=300, max_round=10)\n",
    "alg"
   ]
  },
  {
   "cell_type": "markdown",
   "id": "77f71b6d-5ff7-402c-aa98-b702b66e1855",
   "metadata": {},
   "source": [
    "## Model fitting <a class=\"anchor\" id=\"fit\"></a>"
   ]
  },
  {
   "cell_type": "code",
   "execution_count": 4,
   "id": "238abecf-71d3-4cf0-abfd-85e1beb890c5",
   "metadata": {},
   "outputs": [
    {
     "name": "stderr",
     "output_type": "stream",
     "text": [
      "21-04-2023 15:11:49 INFO: Initialising\n",
      "[Parallel(n_jobs=4)]: Using backend LokyBackend with 4 concurrent workers.\n",
      "[Parallel(n_jobs=4)]: Done  10 tasks      | elapsed:    0.8s\n",
      "[Parallel(n_jobs=4)]: Done 400 tasks      | elapsed:    1.6s\n",
      "[Parallel(n_jobs=4)]: Done 500 out of 500 | elapsed:    1.8s finished\n",
      "21-04-2023 15:11:51 INFO: Round 0, ESS 500.00\n",
      "[Parallel(n_jobs=4)]: Using backend LokyBackend with 4 concurrent workers.\n",
      "[Parallel(n_jobs=4)]: Done  12 tasks      | elapsed:    0.0s\n",
      "[Parallel(n_jobs=4)]: Done 436 tasks      | elapsed:    0.8s\n",
      "[Parallel(n_jobs=4)]: Done 500 out of 500 | elapsed:    1.0s finished\n",
      "21-04-2023 15:11:52 INFO: Round 1, ESS 436, Epsilon 2009.0000, Acceptance 90.2%\n",
      "[Parallel(n_jobs=4)]: Using backend LokyBackend with 4 concurrent workers.\n",
      "[Parallel(n_jobs=4)]: Done  12 tasks      | elapsed:    0.0s\n",
      "[Parallel(n_jobs=4)]: Done 436 tasks      | elapsed:    0.8s\n",
      "[Parallel(n_jobs=4)]: Done 500 out of 500 | elapsed:    0.9s finished\n",
      "21-04-2023 15:11:53 INFO: Round 2, ESS 403, Epsilon 1549.3957, Acceptance 84.8%\n",
      "[Parallel(n_jobs=4)]: Using backend LokyBackend with 4 concurrent workers.\n",
      "[Parallel(n_jobs=4)]: Done  12 tasks      | elapsed:    0.0s\n",
      "[Parallel(n_jobs=4)]: Done 436 tasks      | elapsed:    0.8s\n",
      "[Parallel(n_jobs=4)]: Done 493 out of 500 | elapsed:    0.9s remaining:    0.0s\n",
      "[Parallel(n_jobs=4)]: Done 500 out of 500 | elapsed:    0.9s finished\n",
      "21-04-2023 15:11:54 INFO: Round 3, ESS 370, Epsilon 1225.0000, Acceptance 73.4%\n",
      "[Parallel(n_jobs=4)]: Using backend LokyBackend with 4 concurrent workers.\n",
      "[Parallel(n_jobs=4)]: Done  12 tasks      | elapsed:    0.0s\n",
      "[Parallel(n_jobs=4)]: Done 436 tasks      | elapsed:    0.8s\n",
      "[Parallel(n_jobs=4)]: Done 500 out of 500 | elapsed:    1.0s finished\n",
      "21-04-2023 15:11:55 INFO: Round 4, ESS 334, Epsilon 989.8000, Acceptance 73.0%\n",
      "[Parallel(n_jobs=4)]: Using backend LokyBackend with 4 concurrent workers.\n",
      "[Parallel(n_jobs=4)]: Done  12 tasks      | elapsed:    0.0s\n",
      "[Parallel(n_jobs=4)]: Done 436 tasks      | elapsed:    0.8s\n",
      "[Parallel(n_jobs=4)]: Done 500 out of 500 | elapsed:    1.0s finished\n",
      "21-04-2023 15:11:56 INFO: Round 5, ESS 306, Epsilon 803.6000, Acceptance 66.6%\n",
      "[Parallel(n_jobs=4)]: Using backend LokyBackend with 4 concurrent workers.\n",
      "[Parallel(n_jobs=4)]: Done  12 tasks      | elapsed:    0.0s\n",
      "[Parallel(n_jobs=4)]: Done 436 tasks      | elapsed:    0.8s\n",
      "[Parallel(n_jobs=4)]: Done 493 out of 500 | elapsed:    0.9s remaining:    0.0s\n",
      "[Parallel(n_jobs=4)]: Done 500 out of 500 | elapsed:    0.9s finished\n",
      "21-04-2023 15:11:57 INFO: Round 6, ESS 500, Epsilon 637.0000, Acceptance 78.4%\n",
      "[Parallel(n_jobs=4)]: Using backend LokyBackend with 4 concurrent workers.\n",
      "[Parallel(n_jobs=4)]: Done  12 tasks      | elapsed:    0.0s\n",
      "[Parallel(n_jobs=4)]: Done 436 tasks      | elapsed:    0.9s\n",
      "[Parallel(n_jobs=4)]: Done 493 out of 500 | elapsed:    1.0s remaining:    0.0s\n",
      "[Parallel(n_jobs=4)]: Done 500 out of 500 | elapsed:    1.0s finished\n",
      "21-04-2023 15:11:58 INFO: Round 7, ESS 447, Epsilon 519.4000, Acceptance 74.0%\n",
      "[Parallel(n_jobs=4)]: Using backend LokyBackend with 4 concurrent workers.\n",
      "[Parallel(n_jobs=4)]: Done  12 tasks      | elapsed:    0.0s\n",
      "[Parallel(n_jobs=4)]: Done 436 tasks      | elapsed:    0.8s\n",
      "[Parallel(n_jobs=4)]: Done 493 out of 500 | elapsed:    0.9s remaining:    0.0s\n",
      "[Parallel(n_jobs=4)]: Done 500 out of 500 | elapsed:    0.9s finished\n",
      "21-04-2023 15:11:59 INFO: Round 8, ESS 409, Epsilon 480.2000, Acceptance 70.6%\n",
      "[Parallel(n_jobs=4)]: Using backend LokyBackend with 4 concurrent workers.\n",
      "[Parallel(n_jobs=4)]: Done  12 tasks      | elapsed:    0.0s\n",
      "[Parallel(n_jobs=4)]: Done 436 tasks      | elapsed:    0.8s\n",
      "[Parallel(n_jobs=4)]: Done 493 out of 500 | elapsed:    0.9s remaining:    0.0s\n",
      "[Parallel(n_jobs=4)]: Done 500 out of 500 | elapsed:    0.9s finished\n",
      "21-04-2023 15:12:00 INFO: Round 9, ESS 352, Epsilon 362.6000, Acceptance 64.2%\n",
      "[Parallel(n_jobs=4)]: Using backend LokyBackend with 4 concurrent workers.\n",
      "[Parallel(n_jobs=4)]: Done  12 tasks      | elapsed:    0.0s\n",
      "[Parallel(n_jobs=4)]: Done 436 tasks      | elapsed:    0.8s\n",
      "[Parallel(n_jobs=4)]: Done 493 out of 500 | elapsed:    0.9s remaining:    0.0s\n",
      "[Parallel(n_jobs=4)]: Done 500 out of 500 | elapsed:    0.9s finished\n",
      "21-04-2023 15:12:01 INFO: Round 10, ESS 317, Epsilon 313.6000, Acceptance 62.4%\n"
     ]
    }
   ],
   "source": [
    "alg.fit(model)"
   ]
  },
  {
   "cell_type": "markdown",
   "id": "452eec2c-b3a3-40d1-aa20-ca07abe433ee",
   "metadata": {},
   "source": [
    "## Sample from posterior <a class=\"anchor\" id=\"res\"></a>"
   ]
  },
  {
   "cell_type": "code",
   "execution_count": 5,
   "id": "2d65d2fe-3fd7-4cc2-8435-d1ae6684d9b1",
   "metadata": {
    "tags": []
   },
   "outputs": [
    {
     "name": "stderr",
     "output_type": "stream",
     "text": [
      "21-04-2023 15:12:01 INFO: Collecting posterior\n",
      "[Parallel(n_jobs=4)]: Using backend LokyBackend with 4 concurrent workers.\n",
      "[Parallel(n_jobs=4)]: Done  12 tasks      | elapsed:    0.0s\n",
      "[Parallel(n_jobs=4)]: Done 272 tasks      | elapsed:    0.5s\n",
      "[Parallel(n_jobs=4)]: Done 300 out of 300 | elapsed:    0.6s finished\n"
     ]
    },
    {
     "data": {
      "text/plain": [
       "<sims_pars.fit.results.ParameterSet at 0x7fead4a87250>"
      ]
     },
     "execution_count": 5,
     "metadata": {},
     "output_type": "execute_result"
    }
   ],
   "source": [
    "po = alg.sample_posteriors(300)\n",
    "po"
   ]
  },
  {
   "cell_type": "code",
   "execution_count": 6,
   "id": "3e5d362f-7b6d-4bc6-bcb6-7e22df295f52",
   "metadata": {
    "tags": []
   },
   "outputs": [
    {
     "data": {
      "text/html": [
       "<div>\n",
       "<style scoped>\n",
       "    .dataframe tbody tr th:only-of-type {\n",
       "        vertical-align: middle;\n",
       "    }\n",
       "\n",
       "    .dataframe tbody tr th {\n",
       "        vertical-align: top;\n",
       "    }\n",
       "\n",
       "    .dataframe thead th {\n",
       "        text-align: right;\n",
       "    }\n",
       "</style>\n",
       "<table border=\"1\" class=\"dataframe\">\n",
       "  <thead>\n",
       "    <tr style=\"text-align: right;\">\n",
       "      <th></th>\n",
       "      <th>p1</th>\n",
       "      <th>p2</th>\n",
       "      <th>al</th>\n",
       "      <th>be</th>\n",
       "    </tr>\n",
       "  </thead>\n",
       "  <tbody>\n",
       "    <tr>\n",
       "      <th>count</th>\n",
       "      <td>300.000000</td>\n",
       "      <td>300.000000</td>\n",
       "      <td>300.0</td>\n",
       "      <td>300.0</td>\n",
       "    </tr>\n",
       "    <tr>\n",
       "      <th>mean</th>\n",
       "      <td>0.443858</td>\n",
       "      <td>0.249097</td>\n",
       "      <td>1.0</td>\n",
       "      <td>1.0</td>\n",
       "    </tr>\n",
       "    <tr>\n",
       "      <th>std</th>\n",
       "      <td>0.236476</td>\n",
       "      <td>0.141021</td>\n",
       "      <td>0.0</td>\n",
       "      <td>0.0</td>\n",
       "    </tr>\n",
       "    <tr>\n",
       "      <th>min</th>\n",
       "      <td>0.002173</td>\n",
       "      <td>0.001352</td>\n",
       "      <td>1.0</td>\n",
       "      <td>1.0</td>\n",
       "    </tr>\n",
       "    <tr>\n",
       "      <th>25%</th>\n",
       "      <td>0.257395</td>\n",
       "      <td>0.123972</td>\n",
       "      <td>1.0</td>\n",
       "      <td>1.0</td>\n",
       "    </tr>\n",
       "    <tr>\n",
       "      <th>50%</th>\n",
       "      <td>0.460473</td>\n",
       "      <td>0.221749</td>\n",
       "      <td>1.0</td>\n",
       "      <td>1.0</td>\n",
       "    </tr>\n",
       "    <tr>\n",
       "      <th>75%</th>\n",
       "      <td>0.614229</td>\n",
       "      <td>0.367681</td>\n",
       "      <td>1.0</td>\n",
       "      <td>1.0</td>\n",
       "    </tr>\n",
       "    <tr>\n",
       "      <th>max</th>\n",
       "      <td>0.947734</td>\n",
       "      <td>0.632615</td>\n",
       "      <td>1.0</td>\n",
       "      <td>1.0</td>\n",
       "    </tr>\n",
       "  </tbody>\n",
       "</table>\n",
       "</div>"
      ],
      "text/plain": [
       "               p1          p2     al     be\n",
       "count  300.000000  300.000000  300.0  300.0\n",
       "mean     0.443858    0.249097    1.0    1.0\n",
       "std      0.236476    0.141021    0.0    0.0\n",
       "min      0.002173    0.001352    1.0    1.0\n",
       "25%      0.257395    0.123972    1.0    1.0\n",
       "50%      0.460473    0.221749    1.0    1.0\n",
       "75%      0.614229    0.367681    1.0    1.0\n",
       "max      0.947734    0.632615    1.0    1.0"
      ]
     },
     "execution_count": 6,
     "metadata": {},
     "output_type": "execute_result"
    }
   ],
   "source": [
    "po.to_df().describe()"
   ]
  },
  {
   "cell_type": "code",
   "execution_count": 7,
   "id": "2b22acb5-f882-4010-a7c4-b848d2d0c311",
   "metadata": {
    "tags": []
   },
   "outputs": [
    {
     "data": {
      "text/html": [
       "<div>\n",
       "<style scoped>\n",
       "    .dataframe tbody tr th:only-of-type {\n",
       "        vertical-align: middle;\n",
       "    }\n",
       "\n",
       "    .dataframe tbody tr th {\n",
       "        vertical-align: top;\n",
       "    }\n",
       "\n",
       "    .dataframe thead th {\n",
       "        text-align: right;\n",
       "    }\n",
       "</style>\n",
       "<table border=\"1\" class=\"dataframe\">\n",
       "  <thead>\n",
       "    <tr style=\"text-align: right;\">\n",
       "      <th></th>\n",
       "      <th>Round</th>\n",
       "      <th>Eval</th>\n",
       "      <th>Eps</th>\n",
       "      <th>ESS</th>\n",
       "      <th>Acc</th>\n",
       "    </tr>\n",
       "    <tr>\n",
       "      <th>Time</th>\n",
       "      <th></th>\n",
       "      <th></th>\n",
       "      <th></th>\n",
       "      <th></th>\n",
       "      <th></th>\n",
       "    </tr>\n",
       "  </thead>\n",
       "  <tbody>\n",
       "    <tr>\n",
       "      <th>0</th>\n",
       "      <td>0</td>\n",
       "      <td>500</td>\n",
       "      <td>inf</td>\n",
       "      <td>500.0</td>\n",
       "      <td>1.000</td>\n",
       "    </tr>\n",
       "    <tr>\n",
       "      <th>1</th>\n",
       "      <td>1</td>\n",
       "      <td>500</td>\n",
       "      <td>2009.00000</td>\n",
       "      <td>436.0</td>\n",
       "      <td>0.902</td>\n",
       "    </tr>\n",
       "    <tr>\n",
       "      <th>2</th>\n",
       "      <td>2</td>\n",
       "      <td>500</td>\n",
       "      <td>1549.39568</td>\n",
       "      <td>403.0</td>\n",
       "      <td>0.848</td>\n",
       "    </tr>\n",
       "    <tr>\n",
       "      <th>3</th>\n",
       "      <td>3</td>\n",
       "      <td>500</td>\n",
       "      <td>1225.00000</td>\n",
       "      <td>370.0</td>\n",
       "      <td>0.734</td>\n",
       "    </tr>\n",
       "    <tr>\n",
       "      <th>4</th>\n",
       "      <td>4</td>\n",
       "      <td>500</td>\n",
       "      <td>989.80000</td>\n",
       "      <td>334.0</td>\n",
       "      <td>0.730</td>\n",
       "    </tr>\n",
       "    <tr>\n",
       "      <th>5</th>\n",
       "      <td>5</td>\n",
       "      <td>500</td>\n",
       "      <td>803.60000</td>\n",
       "      <td>306.0</td>\n",
       "      <td>0.666</td>\n",
       "    </tr>\n",
       "    <tr>\n",
       "      <th>6</th>\n",
       "      <td>6</td>\n",
       "      <td>500</td>\n",
       "      <td>637.00000</td>\n",
       "      <td>500.0</td>\n",
       "      <td>0.784</td>\n",
       "    </tr>\n",
       "    <tr>\n",
       "      <th>7</th>\n",
       "      <td>7</td>\n",
       "      <td>500</td>\n",
       "      <td>519.40000</td>\n",
       "      <td>447.0</td>\n",
       "      <td>0.740</td>\n",
       "    </tr>\n",
       "    <tr>\n",
       "      <th>8</th>\n",
       "      <td>8</td>\n",
       "      <td>500</td>\n",
       "      <td>480.20000</td>\n",
       "      <td>409.0</td>\n",
       "      <td>0.706</td>\n",
       "    </tr>\n",
       "    <tr>\n",
       "      <th>9</th>\n",
       "      <td>9</td>\n",
       "      <td>500</td>\n",
       "      <td>362.60000</td>\n",
       "      <td>352.0</td>\n",
       "      <td>0.642</td>\n",
       "    </tr>\n",
       "    <tr>\n",
       "      <th>10</th>\n",
       "      <td>10</td>\n",
       "      <td>500</td>\n",
       "      <td>313.60000</td>\n",
       "      <td>317.0</td>\n",
       "      <td>0.624</td>\n",
       "    </tr>\n",
       "  </tbody>\n",
       "</table>\n",
       "</div>"
      ],
      "text/plain": [
       "      Round  Eval         Eps    ESS    Acc\n",
       "Time                                       \n",
       "0         0   500         inf  500.0  1.000\n",
       "1         1   500  2009.00000  436.0  0.902\n",
       "2         2   500  1549.39568  403.0  0.848\n",
       "3         3   500  1225.00000  370.0  0.734\n",
       "4         4   500   989.80000  334.0  0.730\n",
       "5         5   500   803.60000  306.0  0.666\n",
       "6         6   500   637.00000  500.0  0.784\n",
       "7         7   500   519.40000  447.0  0.740\n",
       "8         8   500   480.20000  409.0  0.706\n",
       "9         9   500   362.60000  352.0  0.642\n",
       "10       10   500   313.60000  317.0  0.624"
      ]
     },
     "execution_count": 7,
     "metadata": {},
     "output_type": "execute_result"
    }
   ],
   "source": [
    "alg.Monitor.Trajectories"
   ]
  }
 ],
 "metadata": {
  "kernelspec": {
   "display_name": "Python 3 (ipykernel)",
   "language": "python",
   "name": "python3"
  },
  "language_info": {
   "codemirror_mode": {
    "name": "ipython",
    "version": 3
   },
   "file_extension": ".py",
   "mimetype": "text/x-python",
   "name": "python",
   "nbconvert_exporter": "python",
   "pygments_lexer": "ipython3",
   "version": "3.10.9"
  }
 },
 "nbformat": 4,
 "nbformat_minor": 5
}
