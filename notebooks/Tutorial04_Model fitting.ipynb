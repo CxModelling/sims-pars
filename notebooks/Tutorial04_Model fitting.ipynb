{
 "cells": [
  {
   "cell_type": "markdown",
   "id": "2d00cc2b-728a-46eb-9294-995748c788ee",
   "metadata": {},
   "source": [
    "## Contents:\n",
    "* [Define a model with objective class](#obj)\n",
    "* [Pick a fitting algorithm](#alg)\n",
    "* [Model fitting](#fit)\n",
    "* [Sample from posterior](#res)"
   ]
  },
  {
   "cell_type": "code",
   "execution_count": 1,
   "id": "e5a675d1-80fb-4685-91fb-7a1313ebc101",
   "metadata": {
    "tags": []
   },
   "outputs": [],
   "source": [
    "from sims_pars.fit.toys import get_betabin\n",
    "from sims_pars.fit import ApproxBayesComSMC"
   ]
  },
  {
   "cell_type": "markdown",
   "id": "44c3b99b-b0f8-4be5-ac4b-e5630b472700",
   "metadata": {},
   "source": [
    "## Define a model with objective class <a class=\"anchor\" id=\"obj\"></a>"
   ]
  },
  {
   "cell_type": "code",
   "execution_count": 2,
   "id": "343d7a61-439b-45a9-bdad-26ab22197636",
   "metadata": {
    "tags": []
   },
   "outputs": [
    {
     "data": {
      "text/plain": [
       "['p1', 'p2']"
      ]
     },
     "execution_count": 2,
     "metadata": {},
     "output_type": "execute_result"
    }
   ],
   "source": [
    "model = get_betabin([4, 4])\n",
    "model.FreeParameters"
   ]
  },
  {
   "cell_type": "markdown",
   "id": "17737bbf-3a8c-4c3c-9a78-8f6248ae3de0",
   "metadata": {},
   "source": [
    "## Pick a fitting algorithm <a class=\"anchor\" id=\"type\"></a>"
   ]
  },
  {
   "cell_type": "code",
   "execution_count": 3,
   "id": "d44ba104-af43-4b13-811a-016b3c5cd927",
   "metadata": {
    "tags": []
   },
   "outputs": [
    {
     "data": {
      "text/plain": [
       "<sims_pars.fit.abc_smc.alg.ApproxBayesComSMC at 0x7f4d09dc22f0>"
      ]
     },
     "execution_count": 3,
     "metadata": {},
     "output_type": "execute_result"
    }
   ],
   "source": [
    "alg = ApproxBayesComSMC(parallel=True, n_collect=300, max_round=10)\n",
    "alg"
   ]
  },
  {
   "cell_type": "markdown",
   "id": "77f71b6d-5ff7-402c-aa98-b702b66e1855",
   "metadata": {},
   "source": [
    "## Model fitting <a class=\"anchor\" id=\"fit\"></a>"
   ]
  },
  {
   "cell_type": "code",
   "execution_count": 4,
   "id": "238abecf-71d3-4cf0-abfd-85e1beb890c5",
   "metadata": {},
   "outputs": [
    {
     "name": "stderr",
     "output_type": "stream",
     "text": [
      "20-04-2023 14:00:58 INFO: Initialising\n",
      "[Parallel(n_jobs=4)]: Using backend LokyBackend with 4 concurrent workers.\n",
      "[Parallel(n_jobs=4)]: Done  10 tasks      | elapsed:    1.4s\n",
      "[Parallel(n_jobs=4)]: Done 332 tasks      | elapsed:    2.5s\n",
      "[Parallel(n_jobs=4)]: Done 500 out of 500 | elapsed:    3.0s finished\n",
      "20-04-2023 14:01:01 INFO: Step to 1\n",
      "20-04-2023 14:01:01 INFO: Round 0, ESS 500.00\n",
      "[Parallel(n_jobs=4)]: Using backend LokyBackend with 4 concurrent workers.\n",
      "[Parallel(n_jobs=4)]: Done  12 tasks      | elapsed:    0.1s\n",
      "[Parallel(n_jobs=4)]: Done 452 tasks      | elapsed:    1.5s\n",
      "[Parallel(n_jobs=4)]: Done 500 out of 500 | elapsed:    1.7s finished\n",
      "20-04-2023 14:01:02 INFO: Step to 2\n",
      "20-04-2023 14:01:02 INFO: Round 1, ESS 447, Epsilon 2077.6000, Acceptance 90.4%\n",
      "[Parallel(n_jobs=4)]: Using backend LokyBackend with 4 concurrent workers.\n",
      "[Parallel(n_jobs=4)]: Done  12 tasks      | elapsed:    0.1s\n",
      "[Parallel(n_jobs=4)]: Done 437 tasks      | elapsed:    1.4s\n",
      "[Parallel(n_jobs=4)]: Done 500 out of 500 | elapsed:    1.5s finished\n",
      "20-04-2023 14:01:04 INFO: Step to 3\n",
      "20-04-2023 14:01:04 INFO: Round 2, ESS 413, Epsilon 1568.0000, Acceptance 84.8%\n",
      "[Parallel(n_jobs=4)]: Using backend LokyBackend with 4 concurrent workers.\n",
      "[Parallel(n_jobs=4)]: Done  12 tasks      | elapsed:    0.1s\n",
      "[Parallel(n_jobs=4)]: Done 452 tasks      | elapsed:    1.4s\n",
      "[Parallel(n_jobs=4)]: Done 500 out of 500 | elapsed:    1.5s finished\n",
      "20-04-2023 14:01:05 INFO: Step to 4\n",
      "20-04-2023 14:01:05 INFO: Round 3, ESS 378, Epsilon 1223.0126, Acceptance 77.8%\n",
      "[Parallel(n_jobs=4)]: Using backend LokyBackend with 4 concurrent workers.\n",
      "[Parallel(n_jobs=4)]: Done  12 tasks      | elapsed:    0.0s\n",
      "[Parallel(n_jobs=4)]: Done 437 tasks      | elapsed:    1.2s\n",
      "[Parallel(n_jobs=4)]: Done 500 out of 500 | elapsed:    1.4s finished\n",
      "20-04-2023 14:01:07 INFO: Step to 5\n",
      "20-04-2023 14:01:07 INFO: Round 4, ESS 342, Epsilon 980.0000, Acceptance 72.8%\n",
      "[Parallel(n_jobs=4)]: Using backend LokyBackend with 4 concurrent workers.\n",
      "[Parallel(n_jobs=4)]: Done  12 tasks      | elapsed:    0.1s\n",
      "[Parallel(n_jobs=4)]: Done 437 tasks      | elapsed:    1.3s\n",
      "[Parallel(n_jobs=4)]: Done 500 out of 500 | elapsed:    1.5s finished\n",
      "20-04-2023 14:01:08 INFO: Step to 6\n",
      "20-04-2023 14:01:08 INFO: Round 5, ESS 315, Epsilon 803.6000, Acceptance 71.2%\n",
      "[Parallel(n_jobs=4)]: Using backend LokyBackend with 4 concurrent workers.\n",
      "[Parallel(n_jobs=4)]: Done  12 tasks      | elapsed:    0.1s\n",
      "[Parallel(n_jobs=4)]: Done 422 tasks      | elapsed:    1.2s\n",
      "[Parallel(n_jobs=4)]: Done 500 out of 500 | elapsed:    1.4s finished\n",
      "20-04-2023 14:01:10 INFO: Step to 7\n",
      "20-04-2023 14:01:10 INFO: Round 6, ESS 500, Epsilon 637.0000, Acceptance 83.0%\n",
      "[Parallel(n_jobs=4)]: Using backend LokyBackend with 4 concurrent workers.\n",
      "[Parallel(n_jobs=4)]: Done  12 tasks      | elapsed:    0.0s\n",
      "[Parallel(n_jobs=4)]: Done 452 tasks      | elapsed:    1.2s\n",
      "[Parallel(n_jobs=4)]: Done 500 out of 500 | elapsed:    1.4s finished\n",
      "20-04-2023 14:01:11 INFO: Step to 8\n",
      "20-04-2023 14:01:11 INFO: Round 7, ESS 440, Epsilon 509.6000, Acceptance 77.6%\n",
      "[Parallel(n_jobs=4)]: Using backend LokyBackend with 4 concurrent workers.\n",
      "[Parallel(n_jobs=4)]: Done  12 tasks      | elapsed:    0.1s\n",
      "[Parallel(n_jobs=4)]: Done 437 tasks      | elapsed:    1.2s\n",
      "[Parallel(n_jobs=4)]: Done 500 out of 500 | elapsed:    1.4s finished\n",
      "20-04-2023 14:01:13 INFO: Step to 9\n",
      "20-04-2023 14:01:13 INFO: Round 8, ESS 399, Epsilon 401.8000, Acceptance 70.8%\n",
      "[Parallel(n_jobs=4)]: Using backend LokyBackend with 4 concurrent workers.\n",
      "[Parallel(n_jobs=4)]: Done  12 tasks      | elapsed:    0.1s\n",
      "[Parallel(n_jobs=4)]: Done 452 tasks      | elapsed:    1.3s\n",
      "[Parallel(n_jobs=4)]: Done 500 out of 500 | elapsed:    1.5s finished\n",
      "20-04-2023 14:01:14 INFO: Step to 10\n",
      "20-04-2023 14:01:14 INFO: Round 9, ESS 350, Epsilon 333.2000, Acceptance 67.2%\n",
      "[Parallel(n_jobs=4)]: Using backend LokyBackend with 4 concurrent workers.\n",
      "[Parallel(n_jobs=4)]: Done  12 tasks      | elapsed:    0.0s\n",
      "[Parallel(n_jobs=4)]: Done 452 tasks      | elapsed:    1.2s\n",
      "[Parallel(n_jobs=4)]: Done 500 out of 500 | elapsed:    1.4s finished\n",
      "20-04-2023 14:01:16 INFO: Step to 11\n",
      "20-04-2023 14:01:16 INFO: Round 10, ESS 313, Epsilon 254.8000, Acceptance 62.4%\n"
     ]
    }
   ],
   "source": [
    "alg.fit(model)"
   ]
  },
  {
   "cell_type": "markdown",
   "id": "452eec2c-b3a3-40d1-aa20-ca07abe433ee",
   "metadata": {},
   "source": [
    "## Sample from posterior <a class=\"anchor\" id=\"res\"></a>"
   ]
  },
  {
   "cell_type": "code",
   "execution_count": 5,
   "id": "2d65d2fe-3fd7-4cc2-8435-d1ae6684d9b1",
   "metadata": {
    "tags": []
   },
   "outputs": [
    {
     "name": "stderr",
     "output_type": "stream",
     "text": [
      "20-04-2023 14:19:15 INFO: Collecting posterior\n",
      "[Parallel(n_jobs=4)]: Using backend LokyBackend with 4 concurrent workers.\n",
      "[Parallel(n_jobs=4)]: Done  10 tasks      | elapsed:    1.6s\n",
      "[Parallel(n_jobs=4)]: Done 272 tasks      | elapsed:    2.4s\n",
      "[Parallel(n_jobs=4)]: Done 300 out of 300 | elapsed:    2.5s finished\n"
     ]
    },
    {
     "data": {
      "text/plain": [
       "<sims_pars.fit.results.ParameterSet at 0x7f4d09dbea10>"
      ]
     },
     "execution_count": 5,
     "metadata": {},
     "output_type": "execute_result"
    }
   ],
   "source": [
    "po = alg.sample_posteriors(300)\n",
    "po"
   ]
  },
  {
   "cell_type": "code",
   "execution_count": 10,
   "id": "3e5d362f-7b6d-4bc6-bcb6-7e22df295f52",
   "metadata": {
    "tags": []
   },
   "outputs": [
    {
     "data": {
      "text/html": [
       "<div>\n",
       "<style scoped>\n",
       "    .dataframe tbody tr th:only-of-type {\n",
       "        vertical-align: middle;\n",
       "    }\n",
       "\n",
       "    .dataframe tbody tr th {\n",
       "        vertical-align: top;\n",
       "    }\n",
       "\n",
       "    .dataframe thead th {\n",
       "        text-align: right;\n",
       "    }\n",
       "</style>\n",
       "<table border=\"1\" class=\"dataframe\">\n",
       "  <thead>\n",
       "    <tr style=\"text-align: right;\">\n",
       "      <th></th>\n",
       "      <th>p1</th>\n",
       "      <th>p2</th>\n",
       "      <th>al</th>\n",
       "      <th>be</th>\n",
       "    </tr>\n",
       "  </thead>\n",
       "  <tbody>\n",
       "    <tr>\n",
       "      <th>count</th>\n",
       "      <td>300.000000</td>\n",
       "      <td>300.000000</td>\n",
       "      <td>300.0</td>\n",
       "      <td>300.0</td>\n",
       "    </tr>\n",
       "    <tr>\n",
       "      <th>mean</th>\n",
       "      <td>0.440650</td>\n",
       "      <td>0.243972</td>\n",
       "      <td>1.0</td>\n",
       "      <td>1.0</td>\n",
       "    </tr>\n",
       "    <tr>\n",
       "      <th>std</th>\n",
       "      <td>0.226281</td>\n",
       "      <td>0.130047</td>\n",
       "      <td>0.0</td>\n",
       "      <td>0.0</td>\n",
       "    </tr>\n",
       "    <tr>\n",
       "      <th>min</th>\n",
       "      <td>0.017742</td>\n",
       "      <td>0.004170</td>\n",
       "      <td>1.0</td>\n",
       "      <td>1.0</td>\n",
       "    </tr>\n",
       "    <tr>\n",
       "      <th>25%</th>\n",
       "      <td>0.221935</td>\n",
       "      <td>0.132169</td>\n",
       "      <td>1.0</td>\n",
       "      <td>1.0</td>\n",
       "    </tr>\n",
       "    <tr>\n",
       "      <th>50%</th>\n",
       "      <td>0.455012</td>\n",
       "      <td>0.231850</td>\n",
       "      <td>1.0</td>\n",
       "      <td>1.0</td>\n",
       "    </tr>\n",
       "    <tr>\n",
       "      <th>75%</th>\n",
       "      <td>0.599822</td>\n",
       "      <td>0.350359</td>\n",
       "      <td>1.0</td>\n",
       "      <td>1.0</td>\n",
       "    </tr>\n",
       "    <tr>\n",
       "      <th>max</th>\n",
       "      <td>0.913835</td>\n",
       "      <td>0.611991</td>\n",
       "      <td>1.0</td>\n",
       "      <td>1.0</td>\n",
       "    </tr>\n",
       "  </tbody>\n",
       "</table>\n",
       "</div>"
      ],
      "text/plain": [
       "               p1          p2     al     be\n",
       "count  300.000000  300.000000  300.0  300.0\n",
       "mean     0.440650    0.243972    1.0    1.0\n",
       "std      0.226281    0.130047    0.0    0.0\n",
       "min      0.017742    0.004170    1.0    1.0\n",
       "25%      0.221935    0.132169    1.0    1.0\n",
       "50%      0.455012    0.231850    1.0    1.0\n",
       "75%      0.599822    0.350359    1.0    1.0\n",
       "max      0.913835    0.611991    1.0    1.0"
      ]
     },
     "execution_count": 10,
     "metadata": {},
     "output_type": "execute_result"
    }
   ],
   "source": [
    "po.to_df().describe()"
   ]
  },
  {
   "cell_type": "code",
   "execution_count": 11,
   "id": "2b22acb5-f882-4010-a7c4-b848d2d0c311",
   "metadata": {
    "tags": []
   },
   "outputs": [
    {
     "data": {
      "text/html": [
       "<div>\n",
       "<style scoped>\n",
       "    .dataframe tbody tr th:only-of-type {\n",
       "        vertical-align: middle;\n",
       "    }\n",
       "\n",
       "    .dataframe tbody tr th {\n",
       "        vertical-align: top;\n",
       "    }\n",
       "\n",
       "    .dataframe thead th {\n",
       "        text-align: right;\n",
       "    }\n",
       "</style>\n",
       "<table border=\"1\" class=\"dataframe\">\n",
       "  <thead>\n",
       "    <tr style=\"text-align: right;\">\n",
       "      <th></th>\n",
       "      <th>Round</th>\n",
       "      <th>Eval</th>\n",
       "      <th>Eps</th>\n",
       "      <th>ESS</th>\n",
       "      <th>Acc</th>\n",
       "    </tr>\n",
       "    <tr>\n",
       "      <th>Time</th>\n",
       "      <th></th>\n",
       "      <th></th>\n",
       "      <th></th>\n",
       "      <th></th>\n",
       "      <th></th>\n",
       "    </tr>\n",
       "  </thead>\n",
       "  <tbody>\n",
       "    <tr>\n",
       "      <th>0</th>\n",
       "      <td>0</td>\n",
       "      <td>500</td>\n",
       "      <td>inf</td>\n",
       "      <td>500.0</td>\n",
       "      <td>1.000</td>\n",
       "    </tr>\n",
       "    <tr>\n",
       "      <th>1</th>\n",
       "      <td>1</td>\n",
       "      <td>500</td>\n",
       "      <td>2077.60000</td>\n",
       "      <td>447.0</td>\n",
       "      <td>0.904</td>\n",
       "    </tr>\n",
       "    <tr>\n",
       "      <th>2</th>\n",
       "      <td>2</td>\n",
       "      <td>500</td>\n",
       "      <td>1568.00000</td>\n",
       "      <td>413.0</td>\n",
       "      <td>0.848</td>\n",
       "    </tr>\n",
       "    <tr>\n",
       "      <th>3</th>\n",
       "      <td>3</td>\n",
       "      <td>500</td>\n",
       "      <td>1223.01256</td>\n",
       "      <td>378.0</td>\n",
       "      <td>0.778</td>\n",
       "    </tr>\n",
       "    <tr>\n",
       "      <th>4</th>\n",
       "      <td>4</td>\n",
       "      <td>500</td>\n",
       "      <td>980.00000</td>\n",
       "      <td>342.0</td>\n",
       "      <td>0.728</td>\n",
       "    </tr>\n",
       "    <tr>\n",
       "      <th>5</th>\n",
       "      <td>5</td>\n",
       "      <td>500</td>\n",
       "      <td>803.60000</td>\n",
       "      <td>315.0</td>\n",
       "      <td>0.712</td>\n",
       "    </tr>\n",
       "    <tr>\n",
       "      <th>6</th>\n",
       "      <td>6</td>\n",
       "      <td>500</td>\n",
       "      <td>637.00000</td>\n",
       "      <td>500.0</td>\n",
       "      <td>0.830</td>\n",
       "    </tr>\n",
       "    <tr>\n",
       "      <th>7</th>\n",
       "      <td>7</td>\n",
       "      <td>500</td>\n",
       "      <td>509.60000</td>\n",
       "      <td>440.0</td>\n",
       "      <td>0.776</td>\n",
       "    </tr>\n",
       "    <tr>\n",
       "      <th>8</th>\n",
       "      <td>8</td>\n",
       "      <td>500</td>\n",
       "      <td>401.80000</td>\n",
       "      <td>399.0</td>\n",
       "      <td>0.708</td>\n",
       "    </tr>\n",
       "    <tr>\n",
       "      <th>9</th>\n",
       "      <td>9</td>\n",
       "      <td>500</td>\n",
       "      <td>333.20000</td>\n",
       "      <td>350.0</td>\n",
       "      <td>0.672</td>\n",
       "    </tr>\n",
       "    <tr>\n",
       "      <th>10</th>\n",
       "      <td>10</td>\n",
       "      <td>500</td>\n",
       "      <td>254.80000</td>\n",
       "      <td>313.0</td>\n",
       "      <td>0.624</td>\n",
       "    </tr>\n",
       "  </tbody>\n",
       "</table>\n",
       "</div>"
      ],
      "text/plain": [
       "      Round  Eval         Eps    ESS    Acc\n",
       "Time                                       \n",
       "0         0   500         inf  500.0  1.000\n",
       "1         1   500  2077.60000  447.0  0.904\n",
       "2         2   500  1568.00000  413.0  0.848\n",
       "3         3   500  1223.01256  378.0  0.778\n",
       "4         4   500   980.00000  342.0  0.728\n",
       "5         5   500   803.60000  315.0  0.712\n",
       "6         6   500   637.00000  500.0  0.830\n",
       "7         7   500   509.60000  440.0  0.776\n",
       "8         8   500   401.80000  399.0  0.708\n",
       "9         9   500   333.20000  350.0  0.672\n",
       "10       10   500   254.80000  313.0  0.624"
      ]
     },
     "execution_count": 11,
     "metadata": {},
     "output_type": "execute_result"
    }
   ],
   "source": [
    "alg.Monitor.Trajectories"
   ]
  }
 ],
 "metadata": {
  "kernelspec": {
   "display_name": "Python 3 (ipykernel)",
   "language": "python",
   "name": "python3"
  },
  "language_info": {
   "codemirror_mode": {
    "name": "ipython",
    "version": 3
   },
   "file_extension": ".py",
   "mimetype": "text/x-python",
   "name": "python",
   "nbconvert_exporter": "python",
   "pygments_lexer": "ipython3",
   "version": "3.10.9"
  }
 },
 "nbformat": 4,
 "nbformat_minor": 5
}
