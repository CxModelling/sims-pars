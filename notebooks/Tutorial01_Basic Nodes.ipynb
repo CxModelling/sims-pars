{
 "cells": [
  {
   "cell_type": "code",
   "execution_count": 3,
   "id": "77727a8a-3539-4722-903e-0acba77adca4",
   "metadata": {
    "tags": []
   },
   "outputs": [],
   "source": [
    "import sims_pars.bayesnet.loci as loci"
   ]
  },
  {
   "cell_type": "code",
   "execution_count": 10,
   "id": "fe38a977-321f-48e7-a10c-5bc0f719ee0d",
   "metadata": {
    "tags": []
   },
   "outputs": [
    {
     "data": {
      "text/plain": [
       "{'Name': 'x', 'Def': 5, 'Type': 'Value'}"
      ]
     },
     "execution_count": 10,
     "metadata": {},
     "output_type": "execute_result"
    }
   ],
   "source": [
    "node, _ = loci.parse_loci('x = 5')\n",
    "node.to_json()"
   ]
  },
  {
   "cell_type": "code",
   "execution_count": 12,
   "id": "84c3a004-0147-44de-9f3d-321f0d42ae44",
   "metadata": {
    "tags": []
   },
   "outputs": [
    {
     "data": {
      "text/plain": [
       "{'Name': 'x',\n",
       " 'Def': 'binom(size=n, prob=p)',\n",
       " 'Type': 'Distribution',\n",
       " 'Parents': ['n', 'p']}"
      ]
     },
     "execution_count": 12,
     "metadata": {},
     "output_type": "execute_result"
    }
   ],
   "source": [
    "node, _ = loci.parse_loci('x ~ binom(n, p)')\n",
    "node.to_json()"
   ]
  }
 ],
 "metadata": {
  "kernelspec": {
   "display_name": "Python 3 (ipykernel)",
   "language": "python",
   "name": "python3"
  },
  "language_info": {
   "codemirror_mode": {
    "name": "ipython",
    "version": 3
   },
   "file_extension": ".py",
   "mimetype": "text/x-python",
   "name": "python",
   "nbconvert_exporter": "python",
   "pygments_lexer": "ipython3",
   "version": "3.10.9"
  }
 },
 "nbformat": 4,
 "nbformat_minor": 5
}
