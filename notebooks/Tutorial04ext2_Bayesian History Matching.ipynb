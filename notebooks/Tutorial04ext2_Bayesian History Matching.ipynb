{
 "cells": [
  {
   "cell_type": "markdown",
   "id": "2d00cc2b-728a-46eb-9294-995748c788ee",
   "metadata": {},
   "source": [
    "## Contents:\n",
    "* [Define a model with objective class](#obj)\n",
    "* [Pick a fitting algorithm](#alg)\n",
    "* [Model fitting](#fit)\n",
    "* [Sample from posterior](#res)"
   ]
  },
  {
   "cell_type": "code",
   "execution_count": 1,
   "id": "e5a675d1-80fb-4685-91fb-7a1313ebc101",
   "metadata": {
    "tags": []
   },
   "outputs": [],
   "source": [
    "from sims_pars.fit.toys import get_betabin\n",
    "from sims_pars.fit.hme import BayesHistoryMatching"
   ]
  },
  {
   "cell_type": "markdown",
   "id": "44c3b99b-b0f8-4be5-ac4b-e5630b472700",
   "metadata": {},
   "source": [
    "## Define a model with objective class <a class=\"anchor\" id=\"obj\"></a>"
   ]
  },
  {
   "cell_type": "code",
   "execution_count": 2,
   "id": "343d7a61-439b-45a9-bdad-26ab22197636",
   "metadata": {
    "tags": []
   },
   "outputs": [
    {
     "data": {
      "text/plain": [
       "['p1', 'p2']"
      ]
     },
     "execution_count": 2,
     "metadata": {},
     "output_type": "execute_result"
    }
   ],
   "source": [
    "model = get_betabin([4, 4])\n",
    "model.FreeParameters"
   ]
  },
  {
   "cell_type": "markdown",
   "id": "17737bbf-3a8c-4c3c-9a78-8f6248ae3de0",
   "metadata": {},
   "source": [
    "## Pick a fitting algorithm <a class=\"anchor\" id=\"type\"></a>"
   ]
  },
  {
   "cell_type": "code",
   "execution_count": 4,
   "id": "d44ba104-af43-4b13-811a-016b3c5cd927",
   "metadata": {
    "tags": []
   },
   "outputs": [],
   "source": [
    "alg = BayesHistoryMatching(max_wave=7, cutoff=3)"
   ]
  },
  {
   "cell_type": "markdown",
   "id": "77f71b6d-5ff7-402c-aa98-b702b66e1855",
   "metadata": {},
   "source": [
    "## Model fitting <a class=\"anchor\" id=\"fit\"></a>"
   ]
  },
  {
   "cell_type": "code",
   "execution_count": 5,
   "id": "238abecf-71d3-4cf0-abfd-85e1beb890c5",
   "metadata": {},
   "outputs": [
    {
     "name": "stderr",
     "output_type": "stream",
     "text": [
      "2023-04-20 14:29:46.417684: I tensorflow/core/platform/cpu_feature_guard.cc:193] This TensorFlow binary is optimized with oneAPI Deep Neural Network Library (oneDNN) to use the following CPU instructions in performance-critical operations:  SSE4.1 SSE4.2 AVX AVX2 FMA\n",
      "To enable them in other operations, rebuild TensorFlow with the appropriate compiler flags.\n",
      "20-04-2023 14:29:51 INFO: Initialising\n",
      "INFO:BHM:Initialising\n",
      "20-04-2023 14:29:51 INFO: Wave: 1\n",
      "INFO:BHM:Wave: 1\n",
      "Simulation: 100%|██████████| 20/20 [00:00<00:00, 71.46it/s]\n",
      "20-04-2023 14:29:52 INFO: Train emulators\n",
      "INFO:BHM:Train emulators\n",
      "Emulation: 100%|██████████| 2000/2000 [00:13<00:00, 153.49it/s]\n",
      "20-04-2023 14:30:07 INFO: CutOff: 3, Acceptance: 0.227, MSE: 4.603520564087524\n",
      "INFO:BHM:CutOff: 3, Acceptance: 0.227, MSE: 4.603520564087524\n",
      "20-04-2023 14:30:07 INFO: Wave: 2\n",
      "INFO:BHM:Wave: 2\n",
      "Simulation: 100%|██████████| 20/20 [00:00<00:00, 67.78it/s]\n",
      "20-04-2023 14:30:07 INFO: Train emulators\n",
      "INFO:BHM:Train emulators\n",
      "Emulation: 100%|██████████| 2000/2000 [00:12<00:00, 156.71it/s]\n",
      "20-04-2023 14:30:21 INFO: CutOff: 3, Acceptance: 0.7705, MSE: 3.152191939244974\n",
      "INFO:BHM:CutOff: 3, Acceptance: 0.7705, MSE: 3.152191939244974\n",
      "20-04-2023 14:30:21 INFO: Wave: 3\n",
      "INFO:BHM:Wave: 3\n",
      "Simulation: 100%|██████████| 20/20 [00:00<00:00, 62.55it/s]\n",
      "20-04-2023 14:30:21 INFO: Train emulators\n",
      "INFO:BHM:Train emulators\n",
      "Emulation: 100%|██████████| 2000/2000 [00:13<00:00, 151.26it/s]\n",
      "20-04-2023 14:30:35 INFO: CutOff: 3, Acceptance: 1.0, MSE: 3.1398797192417085\n",
      "INFO:BHM:CutOff: 3, Acceptance: 1.0, MSE: 3.1398797192417085\n",
      "20-04-2023 14:30:35 INFO: Wave: 4\n",
      "INFO:BHM:Wave: 4\n",
      "Simulation: 100%|██████████| 20/20 [00:00<00:00, 67.36it/s]\n",
      "20-04-2023 14:30:35 INFO: Train emulators\n",
      "INFO:BHM:Train emulators\n",
      "Emulation: 100%|██████████| 2000/2000 [00:12<00:00, 154.32it/s]\n",
      "20-04-2023 14:30:49 INFO: CutOff: 3, Acceptance: 0.9715, MSE: 3.8600570908323677\n",
      "INFO:BHM:CutOff: 3, Acceptance: 0.9715, MSE: 3.8600570908323677\n",
      "20-04-2023 14:30:49 INFO: Wave: 5\n",
      "INFO:BHM:Wave: 5\n",
      "Simulation: 100%|██████████| 20/20 [00:00<00:00, 68.11it/s]\n",
      "20-04-2023 14:30:49 INFO: Train emulators\n",
      "INFO:BHM:Train emulators\n",
      "Emulation: 100%|██████████| 2000/2000 [00:13<00:00, 153.76it/s]\n",
      "20-04-2023 14:31:03 INFO: CutOff: 3, Acceptance: 0.896, MSE: 3.6148412952884903\n",
      "INFO:BHM:CutOff: 3, Acceptance: 0.896, MSE: 3.6148412952884903\n",
      "20-04-2023 14:31:03 INFO: Wave: 6\n",
      "INFO:BHM:Wave: 6\n",
      "Simulation: 100%|██████████| 20/20 [00:00<00:00, 70.87it/s]\n",
      "20-04-2023 14:31:03 INFO: Train emulators\n",
      "INFO:BHM:Train emulators\n",
      "Emulation: 100%|██████████| 2000/2000 [00:12<00:00, 156.02it/s]\n",
      "20-04-2023 14:31:17 INFO: CutOff: 3, Acceptance: 0.8145, MSE: 3.441612779258239\n",
      "INFO:BHM:CutOff: 3, Acceptance: 0.8145, MSE: 3.441612779258239\n",
      "20-04-2023 14:31:17 INFO: Wave: 7\n",
      "INFO:BHM:Wave: 7\n",
      "Simulation: 100%|██████████| 20/20 [00:00<00:00, 58.87it/s]\n",
      "20-04-2023 14:31:17 INFO: Train emulators\n",
      "INFO:BHM:Train emulators\n",
      "Emulation: 100%|██████████| 2000/2000 [00:12<00:00, 154.97it/s]\n",
      "20-04-2023 14:31:31 INFO: CutOff: 3, Acceptance: 1.0, MSE: 2.6023782190067895\n",
      "INFO:BHM:CutOff: 3, Acceptance: 1.0, MSE: 2.6023782190067895\n",
      "20-04-2023 14:31:31 INFO: Termination, max. wave reached\n",
      "INFO:BHM:Termination, max. wave reached\n"
     ]
    }
   ],
   "source": [
    "alg.fit(model)"
   ]
  },
  {
   "cell_type": "markdown",
   "id": "452eec2c-b3a3-40d1-aa20-ca07abe433ee",
   "metadata": {},
   "source": [
    "## Sample from posterior <a class=\"anchor\" id=\"res\"></a>"
   ]
  },
  {
   "cell_type": "code",
   "execution_count": 6,
   "id": "2d65d2fe-3fd7-4cc2-8435-d1ae6684d9b1",
   "metadata": {
    "tags": []
   },
   "outputs": [
    {
     "data": {
      "text/plain": [
       "<sims_pars.fit.results.ParameterSet at 0x7ff5d863e5c0>"
      ]
     },
     "execution_count": 6,
     "metadata": {},
     "output_type": "execute_result"
    }
   ],
   "source": [
    "po = alg.sample_posteriors(300)\n",
    "po"
   ]
  },
  {
   "cell_type": "code",
   "execution_count": 7,
   "id": "3e5d362f-7b6d-4bc6-bcb6-7e22df295f52",
   "metadata": {
    "tags": []
   },
   "outputs": [
    {
     "data": {
      "text/html": [
       "<div>\n",
       "<style scoped>\n",
       "    .dataframe tbody tr th:only-of-type {\n",
       "        vertical-align: middle;\n",
       "    }\n",
       "\n",
       "    .dataframe tbody tr th {\n",
       "        vertical-align: top;\n",
       "    }\n",
       "\n",
       "    .dataframe thead th {\n",
       "        text-align: right;\n",
       "    }\n",
       "</style>\n",
       "<table border=\"1\" class=\"dataframe\">\n",
       "  <thead>\n",
       "    <tr style=\"text-align: right;\">\n",
       "      <th></th>\n",
       "      <th>p1</th>\n",
       "      <th>p2</th>\n",
       "    </tr>\n",
       "  </thead>\n",
       "  <tbody>\n",
       "    <tr>\n",
       "      <th>count</th>\n",
       "      <td>300.000000</td>\n",
       "      <td>300.000000</td>\n",
       "    </tr>\n",
       "    <tr>\n",
       "      <th>mean</th>\n",
       "      <td>0.411036</td>\n",
       "      <td>0.160974</td>\n",
       "    </tr>\n",
       "    <tr>\n",
       "      <th>std</th>\n",
       "      <td>0.228696</td>\n",
       "      <td>0.087222</td>\n",
       "    </tr>\n",
       "    <tr>\n",
       "      <th>min</th>\n",
       "      <td>0.013921</td>\n",
       "      <td>0.005768</td>\n",
       "    </tr>\n",
       "    <tr>\n",
       "      <th>25%</th>\n",
       "      <td>0.218331</td>\n",
       "      <td>0.092469</td>\n",
       "    </tr>\n",
       "    <tr>\n",
       "      <th>50%</th>\n",
       "      <td>0.442623</td>\n",
       "      <td>0.157535</td>\n",
       "    </tr>\n",
       "    <tr>\n",
       "      <th>75%</th>\n",
       "      <td>0.599723</td>\n",
       "      <td>0.230205</td>\n",
       "    </tr>\n",
       "    <tr>\n",
       "      <th>max</th>\n",
       "      <td>0.781907</td>\n",
       "      <td>0.315415</td>\n",
       "    </tr>\n",
       "  </tbody>\n",
       "</table>\n",
       "</div>"
      ],
      "text/plain": [
       "               p1          p2\n",
       "count  300.000000  300.000000\n",
       "mean     0.411036    0.160974\n",
       "std      0.228696    0.087222\n",
       "min      0.013921    0.005768\n",
       "25%      0.218331    0.092469\n",
       "50%      0.442623    0.157535\n",
       "75%      0.599723    0.230205\n",
       "max      0.781907    0.315415"
      ]
     },
     "execution_count": 7,
     "metadata": {},
     "output_type": "execute_result"
    }
   ],
   "source": [
    "po.to_df().describe()"
   ]
  }
 ],
 "metadata": {
  "kernelspec": {
   "display_name": "Python 3 (ipykernel)",
   "language": "python",
   "name": "python3"
  },
  "language_info": {
   "codemirror_mode": {
    "name": "ipython",
    "version": 3
   },
   "file_extension": ".py",
   "mimetype": "text/x-python",
   "name": "python",
   "nbconvert_exporter": "python",
   "pygments_lexer": "ipython3",
   "version": "3.10.9"
  }
 },
 "nbformat": 4,
 "nbformat_minor": 5
}
