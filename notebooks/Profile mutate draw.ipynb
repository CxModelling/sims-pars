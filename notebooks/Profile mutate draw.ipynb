{
 "cells": [
  {
   "cell_type": "code",
   "execution_count": 47,
   "id": "3774b834",
   "metadata": {},
   "outputs": [
    {
     "name": "stdout",
     "output_type": "stream",
     "text": [
      "D:\\Projects\\Cx\n"
     ]
    },
    {
     "data": {
      "text/plain": [
       "'D:\\\\Projects\\\\Cx'"
      ]
     },
     "execution_count": 47,
     "metadata": {},
     "output_type": "execute_result"
    }
   ],
   "source": [
    "%cd ../\n",
    "%pwd"
   ]
  },
  {
   "cell_type": "code",
   "execution_count": 48,
   "id": "9f2f1b36",
   "metadata": {},
   "outputs": [],
   "source": [
    "from sims_pars import bayes_net_from_script\n",
    "from sims_pars.fitting import AbsObjectiveSimBased\n",
    "import scipy.stats as sts"
   ]
  },
  {
   "cell_type": "code",
   "execution_count": 49,
   "id": "505afbdd",
   "metadata": {},
   "outputs": [],
   "source": [
    "class Test(AbsObjectiveSimBased):\n",
    "    def __init__(self):\n",
    "        bn = bayes_net_from_script('''\n",
    "        PCore Normal2 {\n",
    "            r_die_tb_untx ~ unif(0.07, 0.19)\n",
    "            rr_die_asym ~ unif(0, 1)\n",
    "\n",
    "            prev_rural ~ unif(0.001, 0.01)\n",
    "            prev_urban ~ unif(0.001, 0.01)\n",
    "            prev_slum ~ unif(0.001, 0.01)\n",
    "\n",
    "            // Life history\n",
    "            r_sc ~ unif(0.15, 0.25)  # self-cure\n",
    "\n",
    "            // Care-seeking and diagnosis\n",
    "            rr_det_urban ~ unif(0.5, 5)\n",
    "            rr_det_slum ~ unif(0.5, 5)\n",
    "\n",
    "            p_dx_pri_frac ~ unif(0.5, 1)\n",
    "            p_dx_pub = 0.83\n",
    "            p_dx_eng = (p_dx_pub + p_dx_pri) / 2\n",
    "            p_dx_pri = p_dx_pub * p_dx_pri_frac\n",
    "\n",
    "            p_txi_pub = 0.88\n",
    "            p_txi_eng = 0.88\n",
    "            p_txi_pri = 0.75\n",
    "\n",
    "            p_public ~ unif(0.3, 0.8)\n",
    "            p_eng_rural_frac ~ unif(0, 1)\n",
    "            p_eng_rural = p_eng_urban * p_eng_rural_frac\n",
    "            p_eng_urban ~ unif(0, 1)\n",
    "            p_eng_slum = p_eng_urban\n",
    "            r_acf ~ unif(0, 0.05)\n",
    "\n",
    "            ppv = 0.85\n",
    "\n",
    "            // Treatment\n",
    "            r_tx_succ = 2\n",
    "            dur_succ_ds = 0.5\n",
    "            dur_succ_dr = 2\n",
    "            x ~ binom(size=60, prob = 0.5)\n",
    "        }\n",
    "        ''')\n",
    "        AbsObjectiveSimBased.__init__(self, bn)\n",
    "\n",
    "    def simulate(self, pars):\n",
    "        return 'test'\n",
    "\n",
    "    def link_likelihood(self, sim):\n",
    "        return 1"
   ]
  },
  {
   "cell_type": "code",
   "execution_count": 50,
   "id": "3ee70d18",
   "metadata": {},
   "outputs": [],
   "source": [
    "obj = Test()"
   ]
  },
  {
   "cell_type": "code",
   "execution_count": 52,
   "id": "0f5ae55b",
   "metadata": {},
   "outputs": [],
   "source": [
    "p0 = obj.sample_prior()"
   ]
  },
  {
   "cell_type": "code",
   "execution_count": 57,
   "id": "2f44a899",
   "metadata": {},
   "outputs": [
    {
     "name": "stdout",
     "output_type": "stream",
     "text": [
      "r_die_tb_untx float\n",
      "rr_die_asym float\n",
      "prev_rural float\n",
      "prev_urban float\n",
      "prev_slum float\n",
      "r_sc float\n",
      "rr_det_urban float\n",
      "rr_det_slum float\n",
      "p_dx_pri_frac float\n",
      "p_dx_pub float\n",
      "p_txi_pub float\n",
      "p_txi_eng float\n",
      "p_txi_pri float\n",
      "p_public float\n",
      "p_eng_rural_frac float\n",
      "p_eng_urban float\n",
      "r_acf float\n",
      "ppv float\n",
      "r_tx_succ int\n",
      "dur_succ_ds float\n",
      "dur_succ_dr int\n",
      "x int\n",
      "p_dx_pri float\n",
      "p_eng_rural float\n",
      "p_eng_slum float\n",
      "p_dx_eng float\n"
     ]
    }
   ],
   "source": [
    "for k, v in dict(p0).items():\n",
    "    print(k, 'int' if isinstance(v, int) else 'float')"
   ]
  },
  {
   "cell_type": "code",
   "execution_count": 38,
   "id": "1e43fd3d",
   "metadata": {},
   "outputs": [
    {
     "data": {
      "text/plain": [
       "{'Locus': {'r_die_tb_untx': 0.15626521599792703,\n",
       "  'rr_die_asym': 0.6795213509770783,\n",
       "  'prev_rural': 0.008548356397980902,\n",
       "  'prev_urban': 0.005254825478947948,\n",
       "  'prev_slum': 0.003550808921758208,\n",
       "  'r_sc': 0.15283906681589926,\n",
       "  'rr_det_urban': 0.6340713542661383,\n",
       "  'rr_det_slum': 4.198613710488985,\n",
       "  'p_dx_pri_frac': 0.8329800169577917,\n",
       "  'p_dx_pub': 0.83,\n",
       "  'p_txi_pub': 0.88,\n",
       "  'p_txi_eng': 0.88,\n",
       "  'p_txi_pri': 0.75,\n",
       "  'p_public': 0.4628655675576188,\n",
       "  'p_eng_rural_frac': 0.4219831697206283,\n",
       "  'p_eng_urban': 0.43679207877987447,\n",
       "  'r_acf': 0.041486259029210756,\n",
       "  'ppv': 0.85,\n",
       "  'r_tx_succ': 2,\n",
       "  'dur_succ_ds': 0.5,\n",
       "  'dur_succ_dr': 2,\n",
       "  'p_dx_pri': 0.6913734140749671,\n",
       "  'p_eng_rural': 0.18431890591239383,\n",
       "  'p_eng_slum': 0.43679207877987447,\n",
       "  'p_dx_eng': 0.7606867070374835},\n",
       " 'LogPrior': 19.928312575253223,\n",
       " 'LogLikelihood': 1}"
      ]
     },
     "execution_count": 38,
     "metadata": {},
     "output_type": "execute_result"
    }
   ],
   "source": [
    "p = obj.sample_prior()\n",
    "obj.evaluate(p)\n",
    "p.to_json()"
   ]
  },
  {
   "cell_type": "code",
   "execution_count": 39,
   "id": "03ef1d78",
   "metadata": {},
   "outputs": [
    {
     "data": {
      "text/plain": [
       "['r_die_tb_untx',\n",
       " 'rr_die_asym',\n",
       " 'prev_rural',\n",
       " 'prev_urban',\n",
       " 'prev_slum',\n",
       " 'r_sc',\n",
       " 'rr_det_urban',\n",
       " 'rr_det_slum',\n",
       " 'p_dx_pri_frac',\n",
       " 'p_public',\n",
       " 'p_eng_rural_frac',\n",
       " 'p_eng_urban',\n",
       " 'r_acf']"
      ]
     },
     "execution_count": 39,
     "metadata": {},
     "output_type": "execute_result"
    }
   ],
   "source": [
    "obj.FreeParameters"
   ]
  },
  {
   "cell_type": "code",
   "execution_count": 41,
   "id": "daf09a29",
   "metadata": {},
   "outputs": [
    {
     "name": "stdout",
     "output_type": "stream",
     "text": [
      "8.11 ms ± 234 µs per loop (mean ± std. dev. of 7 runs, 100 loops each)\n"
     ]
    }
   ],
   "source": [
    "step_sizes = {\n",
    "    'prev_rural': 0.001,\n",
    "    'prev_urban': 0.001,\n",
    "    'prev_slum': 0.001,\n",
    "    'r_sc': 0.05,\n",
    "    'rr_det_urban': 0.1,\n",
    "    'rr_det_slum': 0.1,\n",
    "    'p_dx_pri_frac': 0.1,\n",
    "    'p_public': 0.1,\n",
    "    'p_eng_rural_frac': 0.5\n",
    "}\n",
    "\n",
    "def mutate1(p0, sizes):\n",
    "    p = p0.clone()\n",
    "    changes = {k: v + sizes[k] for k, v in p.Locus.items() if k in sizes}\n",
    "\n",
    "    p.impulse(changes)\n",
    "    obj.evaluate_prior(p)\n",
    "    return p\n",
    "\n",
    "%timeit mutate1(p, step_sizes)"
   ]
  },
  {
   "cell_type": "code",
   "execution_count": 42,
   "id": "acab4443",
   "metadata": {},
   "outputs": [
    {
     "name": "stdout",
     "output_type": "stream",
     "text": [
      "10.2 ms ± 356 µs per loop (mean ± std. dev. of 7 runs, 100 loops each)\n"
     ]
    }
   ],
   "source": [
    "def mutate2(p0, sizes):\n",
    "    changes = {k: v + sizes[k] for k, v in p0.Locus.items() if k in sizes}\n",
    "\n",
    "    return obj.serve(changes)\n",
    "\n",
    "%timeit mutate2(p, step_sizes)"
   ]
  },
  {
   "cell_type": "code",
   "execution_count": 46,
   "id": "669af371",
   "metadata": {},
   "outputs": [
    {
     "data": {
      "text/plain": [
       "3"
      ]
     },
     "execution_count": 46,
     "metadata": {},
     "output_type": "execute_result"
    }
   ],
   "source": []
  }
 ],
 "metadata": {
  "kernelspec": {
   "display_name": "Python 3 (ipykernel)",
   "language": "python",
   "name": "python3"
  },
  "language_info": {
   "codemirror_mode": {
    "name": "ipython",
    "version": 3
   },
   "file_extension": ".py",
   "mimetype": "text/x-python",
   "name": "python",
   "nbconvert_exporter": "python",
   "pygments_lexer": "ipython3",
   "version": "3.9.7"
  }
 },
 "nbformat": 4,
 "nbformat_minor": 5
}
