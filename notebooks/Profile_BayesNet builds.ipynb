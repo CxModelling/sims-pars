{
 "cells": [
  {
   "cell_type": "code",
   "execution_count": 1,
   "id": "a1b4108f",
   "metadata": {
    "tags": []
   },
   "outputs": [],
   "source": [
    "import sims_pars.prob as dist"
   ]
  },
  {
   "cell_type": "code",
   "execution_count": 2,
   "id": "6a664ddb",
   "metadata": {
    "tags": []
   },
   "outputs": [
    {
     "name": "stdout",
     "output_type": "stream",
     "text": [
      "587 µs ± 48.7 µs per loop (mean ± std. dev. of 7 runs, 1,000 loops each)\n",
      "29.1 µs ± 1.15 µs per loop (mean ± std. dev. of 7 runs, 10,000 loops each)\n",
      "gamma(shape=0.1, rate=1)\n",
      "475 µs ± 24.9 µs per loop (mean ± std. dev. of 7 runs, 1,000 loops each)\n"
     ]
    }
   ],
   "source": [
    "di = 'gamma(0.1, rate = 1)'\n",
    "\n",
    "%timeit dist.parse_distribution(di)\n",
    "\n",
    "%timeit dist.complete_function(di)\n",
    "seq = dist.complete_function(di)\n",
    "print(seq)\n",
    "%timeit dist.parse_distribution(seq, to_complete=False)"
   ]
  },
  {
   "cell_type": "code",
   "execution_count": 4,
   "id": "12c192f4",
   "metadata": {
    "tags": []
   },
   "outputs": [],
   "source": [
    "from sims_pars import bayes_net_from_script, sample"
   ]
  },
  {
   "cell_type": "code",
   "execution_count": 5,
   "id": "7d0825db",
   "metadata": {
    "tags": []
   },
   "outputs": [],
   "source": [
    "bn = bayes_net_from_script('''\n",
    "PCore Root {\n",
    "    x ~ binom(prob = 0.5, size = 5)\n",
    "    y ~ unif(0.01, 0.02)\n",
    "}\n",
    "''')"
   ]
  },
  {
   "cell_type": "code",
   "execution_count": 7,
   "id": "0b78fcb7",
   "metadata": {
    "tags": []
   },
   "outputs": [
    {
     "name": "stdout",
     "output_type": "stream",
     "text": [
      "370 µs ± 12.1 µs per loop (mean ± std. dev. of 7 runs, 1,000 loops each)\n",
      "380 µs ± 6.45 µs per loop (mean ± std. dev. of 7 runs, 1,000 loops each)\n"
     ]
    }
   ],
   "source": [
    "def fn1():\n",
    "    bayes_net_from_script('''\n",
    "    PCore Root {\n",
    "        y ~ unif(0.01, 0.02)\n",
    "        x = 60\n",
    "        t ~ binom(prob = 0.3, size = x)\n",
    "        u ~ unif(0.01, 0.02)\n",
    "    }\n",
    "    ''')\n",
    "\n",
    "\n",
    "def fn():\n",
    "    bn2 = bayes_net_from_script('''\n",
    "    PCore Root {\n",
    "        x = 60\n",
    "        t ~ binom(prob = 0.3, size = x)\n",
    "        u ~ unif(0.01, 0.02)\n",
    "    }\n",
    "    ''')\n",
    "\n",
    "\n",
    "    bn.extend(bn2)\n",
    "\n",
    "%timeit fn1()\n",
    "%timeit fn()"
   ]
  },
  {
   "cell_type": "code",
   "execution_count": 8,
   "id": "b67f8dea-ee5d-46be-a272-e359af9ce29e",
   "metadata": {
    "tags": []
   },
   "outputs": [
    {
     "data": {
      "text/plain": [
       "{'y': 0.015539862064463837, 'x': 60, 'u': 0.017127742577557635, 't': 17}"
      ]
     },
     "execution_count": 8,
     "metadata": {},
     "output_type": "execute_result"
    }
   ],
   "source": [
    "bn = bayes_net_from_script('''\n",
    "    PCore Root {\n",
    "        y ~ unif(0.01, 0.02)\n",
    "        x = 60\n",
    "        t ~ binom(prob = 0.3, size = x)\n",
    "        u ~ unif(0.01, 0.02)\n",
    "    }\n",
    "    ''')\n",
    "\n",
    "sample(bn)"
   ]
  }
 ],
 "metadata": {
  "kernelspec": {
   "display_name": "Python 3 (ipykernel)",
   "language": "python",
   "name": "python3"
  },
  "language_info": {
   "codemirror_mode": {
    "name": "ipython",
    "version": 3
   },
   "file_extension": ".py",
   "mimetype": "text/x-python",
   "name": "python",
   "nbconvert_exporter": "python",
   "pygments_lexer": "ipython3",
   "version": "3.10.9"
  }
 },
 "nbformat": 4,
 "nbformat_minor": 5
}
